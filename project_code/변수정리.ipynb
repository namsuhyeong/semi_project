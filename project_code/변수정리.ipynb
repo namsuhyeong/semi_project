{
 "cells": [
  {
   "cell_type": "markdown",
   "metadata": {},
   "source": [
    "# <변수정리>"
   ]
  },
  {
   "cell_type": "markdown",
   "metadata": {},
   "source": [
    "# 변수 정리하실때 !! 이렇게 해주세요! \n",
    "\n",
    "처음 데이터프레임 불러올때   \n",
    "ex) 추정매출 데이터프레임 = 추정매출_raw   \n",
    "분석에 사용할 데이터프레임 \n",
    "추정매출 = 추정매출_raw.copy()  해서 사용해주세요!   \n",
    "그리고 raw 파일 필요할때마다 copy 해서 쓰시면 될것 같습니다  \n",
    "\n"
   ]
  },
  {
   "cell_type": "code",
   "execution_count": null,
   "metadata": {
    "vscode": {
     "languageId": "plaintext"
    }
   },
   "outputs": [],
   "source": [
    "## 지울 것 !!! 테스트용\n",
    "plt.rc('font', family='AppleGothic')\n",
    "plt.rc('axes', unicode_minus=False)\n",
    "path = '/Users/leegahee/git_folder/project/csv/소득소비-행정동.csv'\n",
    "소득소비_raw  = pd.read_csv(path,encoding='EUC-KR')\n",
    "소득소비_raw.head()"
   ]
  },
  {
   "cell_type": "code",
   "execution_count": null,
   "metadata": {
    "vscode": {
     "languageId": "plaintext"
    }
   },
   "outputs": [],
   "source": []
  },
  {
   "cell_type": "markdown",
   "metadata": {},
   "source": [
    "---"
   ]
  },
  {
   "cell_type": "markdown",
   "metadata": {},
   "source": [
    "# 길단위 인구 "
   ]
  },
  {
   "cell_type": "markdown",
   "metadata": {},
   "source": [
    "> 함수 정리\n",
    "- find_dong : 동에 관한 값을 반환하는 함수 \n",
    "- find_dongs : 동을 찾는 함수\n",
    "- ((find_outlier-> find_outliers)) : 이상치 찾는 함수\n",
    "\n",
    "\n",
    "\n",
    "> 데이터프레임 \n",
    "- (( raw -> 길단위인구_raw )) : 길단위인구 불러온 df\n",
    "- (( df -> 길단위인구_raw )) : 이미 raw 도 df 라서 한차례 더 안거쳐도 될것 같습니다 \n",
    "- (( 두번째 쓰신 copy 뜬 raw -> 길단위인구  )) : 분석에 사용할 길단위 인구 df\n",
    "- rw : 2023년도 데이터만 모아놓은 df \n",
    "- ((길단위인구_copy -> 길단위인구)) 쓰시면 될것 같아요 계속! \n",
    "\n",
    "- 길단위인구 : 유동인구 df\n",
    "- 길단위_인구 : 이상치를 제외한 df\n",
    "- grouped_data : 길단위인구 df 을 그룹화한 df \n",
    "- outliers :  길단위 인구의 이상치를 처리한 결과물 \n",
    "\n",
    "> 변수 정리  \n",
    "- replace_dict : 동을 합치는데 사용한 딕셔너리 \n",
    "- q3 : 3사분위수 \n",
    "- q1 : 1사분위수\n",
    "- result : 이상치 탐색후 담은 변수 \n",
    "- label_b/c/d : plot 용 연령/시간/요일 라벨  \n",
    "- (( outl -> result )) : 이상치 탐색후 담은 변수 \n",
    "- leng : 행정동 개수 \n",
    "- unique_values : 행정동 종류 \n",
    "- grouped_data : 데이터를 행정동끼리 그룹화\n",
    "- dong_n : 동 종류 \n",
    "\n",
    "- 성별_이상치 , 연령_이상치 , 시간_이상치, 요일_이상치 : 각 구간별 이상치\n",
    "- (((s_p -> sex_p)))) : 성별_이상치 리스트 \n",
    "- age_p : 연령_이상치 리스트 \n",
    "- time_p : 시간_이상치 리스트 \n",
    "- week_p :요일_이상치 리스트 "
   ]
  },
  {
   "cell_type": "markdown",
   "metadata": {},
   "source": [
    "***"
   ]
  },
  {
   "cell_type": "markdown",
   "metadata": {},
   "source": [
    "# 상주인구"
   ]
  },
  {
   "cell_type": "markdown",
   "metadata": {},
   "source": [
    "> 함수 정리  \n",
    "- find_dongs :  동에 관한 값을 반환하는 함수\n",
    "- find_dong : 동을 찾는 함수\n",
    "> 데이터프레임  \n",
    "- 상주인구 : 유동인구 df\n",
    "- grouped_data : 상주인구 df 을 그룹화한 df \n",
    "> 데이터 프레임 추가정리  \n",
    "- ((( raw -> 상주인구_raw  )))\n",
    "- ((( df -> 상주인구 )))\n",
    "- ((raw )) : 굳이 두번 copy 안하시고 df-> 상주인구 이걸로 분석하시면 될것 같아요 \n",
    "- rw\n",
    "- (( 상주인구 = raw[rw]  -> 상주인구 = 상주인구[rw]))\n",
    "- 상주인구_copy :  x\n",
    "> 변수 정리  \n",
    "- ((s_p -> sex_p)) : 성별_이상치 리스트\n",
    "- age_p : 연령_이상치 리스트\n",
    "- time_p : 시간_이상치 리스트\n",
    "- week_p :요일_이상치 리스트\n",
    "> 변수 추가정리 \n",
    "- replace_dict : 동이름 바꾸는 딕셔너리 \n",
    "- (( m_a_p -> male_age_p))\n",
    "- (( fe_m_p -> female_age_p))\n",
    "- fm_p -> household_p 리스트 \n",
    "- label_b/c/d/e : 연령 (b,c,d 중복이여서 하나만쓰셔도  될듯! ) \n",
    "- leng : 행정동 개수\n",
    "- unique_values : 행정동 종류 \n",
    "- grouped_data : 제가 잘 몰라서 그러는데 concat 으로 뭘 이어주는건가요?? \n",
    "- dong_n : 동 종류 \n",
    "- name"
   ]
  },
  {
   "cell_type": "markdown",
   "metadata": {},
   "source": [
    "***"
   ]
  },
  {
   "cell_type": "markdown",
   "metadata": {},
   "source": [
    "# 추정매출"
   ]
  },
  {
   "cell_type": "markdown",
   "metadata": {},
   "source": [
    "> 함수정리  \n",
    "- detect_outliers : 이상치 확인 함수\n",
    "- combine_dong : 1동과 2동을 합쳐서 새로운 동을 만드는 함수를 정의\n",
    "- keep_original : 1동과 2동이 아닌 동들은 그대로 \n",
    "- combine_sales : 합쳐진 동들의 매출 금액을 합치는 함수를 정의\n",
    "\n",
    "> 데이터프레임 \n",
    "- (((((df-> 추정매출))))) : 데이터프레임화\n",
    "> 데이터프레임 추가정리  \n",
    "- data : 데이터프레임화 , 또 안불러오시고 raw 사용 \n",
    "- data_quarter : 0분기 데이터만 추출\n",
    "- cleaned_data : 이상치 제거\n",
    "> 변수정리\n",
    "- ~path : csv 파일 불러오기\n",
    "- missing : 결측치 확인\n",
    "- columns_check : 이상치를 확인할 컬럼 리스트화\n",
    "- column_plot : 시각화할 부분 컬럼\n",
    "- combine_dongs : 합칠 동들 리스트\n",
    "\n",
    "> 변수 추가 정리 \n",
    "- threshold : 이상치 배수설정 \n",
    "- columns_to_plot : 당월/주중/주말 컬럼 리스트화 \n",
    "- data_to_plot : 당월/주중/주말 컬럼 만 선택한 데이터 \n",
    "- 합쳐진 동에 대해 그룹화하고 매출 금액을 합침\n",
    "- column_clean : 이상치를 제거할 열 \n",
    "- (( Q1-> q1)) : 그냥 다른 사람이랑 맞췄습니다 \n",
    "- (( Q3-> q3)) : 그냥 다른 사람이랑 맞췄습니다 \n",
    "- ((lower_bound-> low)) : 그냥 다른 사람이랑 맞췄습니다 \n",
    "- (( upper_bound -> high)) : 그냥 다른 사람이랑 맞췄습니다 "
   ]
  },
  {
   "cell_type": "markdown",
   "metadata": {},
   "source": [
    "***"
   ]
  },
  {
   "cell_type": "markdown",
   "metadata": {},
   "source": [
    "# 소득소비"
   ]
  },
  {
   "cell_type": "markdown",
   "metadata": {},
   "source": [
    "> 함수정리\n",
    "- ((detect_outliers ->  find_outliers)) : 이상치 탐지 함수 \n",
    "- combine_dong : 동 이름에서 숫자 부분을 제외하고 그룹화하는 함수를 정의\n",
    "\n",
    "> 데이터프레임 정리\n",
    "- ((df -> 소득소비)) : 데이터프레임화\n",
    "- 소득소비.raw : 소득소비 raw 파일 생성\n",
    "\n",
    "> 데이터프레임 추가 정리\n",
    "- (( processed_data -> 소득소비)) : data df 에 결국 처리한거니까 소득소비라고 같이 쓰셔도 될것 같아요 \n",
    "> 변수정리 \n",
    "- missing : 결측치 확인\n",
    "- columns_check : 이상치를 확인할 컬럼 리스트화\n",
    "- column_plot : 시각화할 부분 컬럼\n",
    "- combine_dongs : 합칠 동들 리스트\n",
    "- cleaned_data : 이상치 제거\n",
    "- selected_columns : 필요한 열\n",
    "\n",
    "> 변수 추가 정리 \n",
    "- threshold : 이상치 탐지를 위한 가중치 \n",
    "- path : csv 파일 불러오기"
   ]
  },
  {
   "cell_type": "markdown",
   "metadata": {},
   "source": [
    "# 점포"
   ]
  },
  {
   "cell_type": "markdown",
   "metadata": {},
   "source": [
    "\n",
    "\n",
    "> 데이터프레임  \n",
    "\n",
    "- path1\n",
    "- path2\n",
    "- path3  -> path\n",
    "- (((temp1 -> 점포_상권)))  : 점포_상권 데이터프레임 \n",
    "- (((temp3 - > 점포_행정동_raw ))) : 점포_행정동 데이터 프레임\n",
    "- ((gangnam - >점포_행정동 ))\n",
    "- ((gangnam_jp_raw -> 점포 )) : 점포 데이터 프레임 (행정동, 상권 다 묶었으니 크게 점포로 볼게요)\n",
    "- ((gangnam_점포_상권_행정동->점포)) : 점포데이터 프레임\n",
    "- columns\n",
    "\n",
    "> 데이터 프레임 추가정리 \n",
    "- (( temp2 ->  점포_행정동_raw ))\n",
    "- (( gangnam_점포_행정동 -> 점포_행정동 ))\n",
    "- add_dong : 행정코드명/ 행정동 df\n",
    "- (( gangnam_점포_행정동 -> 점포_행정동 )) \n",
    "- 행정동_상권 : 행정동별 상권 특징 DF\n",
    "> 변수정리 \n",
    "- dong_list : 행정동 이름 리스트 "
   ]
  },
  {
   "cell_type": "markdown",
   "metadata": {},
   "source": [
    "# 직장인구(상권별)"
   ]
  },
  {
   "cell_type": "markdown",
   "metadata": {},
   "source": [
    "> 함수 \n",
    "- iqr_cal : iqr 을 계산해주는 함수 \n",
    "- find_outlier_value : 이창치 탐지 함수\n",
    "- find_outlier_value_len : 이상치 개수 탐지\n",
    "- (( find_outlier -> find_outliers)) : 이상치 탐지 \n",
    "- remove_outliers : 이상치를 데이터 프레임에서 제거 \n",
    "\n",
    "> 데이터프레임 \n",
    "- 직장인구_상권 / 직장인구_상권_raw\n",
    "- A / A_raw : 골목상권\n",
    "- D / D_raw : 발달상권\n",
    "- R / R_raw : 전통시장\n",
    "- U / U_raw : 관광특구\n",
    "\n",
    "> 변수정리  \n",
    "label : 박스플롯을 만들때 라벨을 임시로 넣어놓은 공간"
   ]
  },
  {
   "cell_type": "markdown",
   "metadata": {},
   "source": []
  }
 ],
 "metadata": {
  "interpreter": {
   "hash": "40d3a090f54c6569ab1632332b64b2c03c39dcf918b08424e98f38b5ae0af88f"
  },
  "kernelspec": {
   "display_name": "Python 3.11.7 ('base')",
   "language": "python",
   "name": "python3"
  },
  "language_info": {
   "codemirror_mode": {
    "name": "ipython",
    "version": 3
   },
   "file_extension": ".py",
   "mimetype": "text/x-python",
   "name": "python",
   "nbconvert_exporter": "python",
   "pygments_lexer": "ipython3",
   "version": "3.11.7"
  },
  "orig_nbformat": 4
 },
 "nbformat": 4,
 "nbformat_minor": 2
}
