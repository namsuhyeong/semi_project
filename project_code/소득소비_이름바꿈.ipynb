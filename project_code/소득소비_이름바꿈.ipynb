{
 "cells": [
  {
   "cell_type": "markdown",
   "metadata": {},
   "source": [
    "데이터 전처리 과정\n",
    "=================="
   ]
  },
  {
   "cell_type": "markdown",
   "metadata": {},
   "source": [
    "> 함수정리\n",
    "- ((detect_outliers ->  find_outliers)) : 이상치 탐지 함수 \n",
    "- combine_dong : 동 이름에서 숫자 부분을 제외하고 그룹화하는 함수를 정의\n",
    "\n",
    "> 데이터프레임 정리\n",
    "- ((df -> 소득소비)) : 데이터프레임화\n",
    "- 소득소비.raw : 소득소비 raw 파일 생성\n",
    "\n",
    "> 데이터프레임 추가 정리\n",
    "- (( processed_data -> 소득소비)) : data df 에 결국 처리한거니까 소득소비라고 같이 쓰셔도 될것 같아요 \n",
    "> 변수정리 \n",
    "- missing : 결측치 확인\n",
    "- columns_check : 이상치를 확인할 컬럼 리스트화\n",
    "- column_plot : 시각화할 부분 컬럼\n",
    "- combine_dongs : 합칠 동들 리스트\n",
    "- cleaned_data : 이상치 제거\n",
    "- selected_columns : 필요한 열\n",
    "\n",
    "> 변수 추가 정리 \n",
    "- threshold : 이상치 탐지를 위한 가중치 \n",
    "- path : csv 파일 불러오기"
   ]
  },
  {
   "cell_type": "code",
   "execution_count": 12,
   "metadata": {},
   "outputs": [],
   "source": [
    "import pandas as pd\n",
    "import numpy as np\n",
    "import matplotlib.pyplot as plt\n"
   ]
  },
  {
   "cell_type": "code",
   "execution_count": 5,
   "metadata": {},
   "outputs": [
    {
     "data": {
      "text/html": [
       "<div>\n",
       "<style scoped>\n",
       "    .dataframe tbody tr th:only-of-type {\n",
       "        vertical-align: middle;\n",
       "    }\n",
       "\n",
       "    .dataframe tbody tr th {\n",
       "        vertical-align: top;\n",
       "    }\n",
       "\n",
       "    .dataframe thead th {\n",
       "        text-align: right;\n",
       "    }\n",
       "</style>\n",
       "<table border=\"1\" class=\"dataframe\">\n",
       "  <thead>\n",
       "    <tr style=\"text-align: right;\">\n",
       "      <th></th>\n",
       "      <th>기준_년분기_코드</th>\n",
       "      <th>행정동_코드</th>\n",
       "      <th>행정동_코드_명</th>\n",
       "      <th>월_평균_소득_금액</th>\n",
       "      <th>소득_구간_코드</th>\n",
       "      <th>지출_총금액</th>\n",
       "      <th>식료품_지출_총금액</th>\n",
       "      <th>의류_신발_지출_총금액</th>\n",
       "      <th>생활용품_지출_총금액</th>\n",
       "      <th>의료비_지출_총금액</th>\n",
       "      <th>교통_지출_총금액</th>\n",
       "      <th>교육_지출_총금액</th>\n",
       "      <th>유흥_지출_총금액</th>\n",
       "      <th>여가_문화_지출_총금액</th>\n",
       "      <th>기타_지출_총금액</th>\n",
       "      <th>음식_지출_총금액</th>\n",
       "    </tr>\n",
       "  </thead>\n",
       "  <tbody>\n",
       "    <tr>\n",
       "      <th>0</th>\n",
       "      <td>20231</td>\n",
       "      <td>11680660</td>\n",
       "      <td>개포1동</td>\n",
       "      <td>5336373</td>\n",
       "      <td>9</td>\n",
       "      <td>250506000.0</td>\n",
       "      <td>70320000.0</td>\n",
       "      <td>8632000</td>\n",
       "      <td>1380000</td>\n",
       "      <td>134557000</td>\n",
       "      <td>0.0</td>\n",
       "      <td>18870000</td>\n",
       "      <td>0</td>\n",
       "      <td>0.0</td>\n",
       "      <td>5140000.0</td>\n",
       "      <td>11607000</td>\n",
       "    </tr>\n",
       "    <tr>\n",
       "      <th>1</th>\n",
       "      <td>20231</td>\n",
       "      <td>11680690</td>\n",
       "      <td>개포4동</td>\n",
       "      <td>3550527</td>\n",
       "      <td>7</td>\n",
       "      <td>3535605000.0</td>\n",
       "      <td>905489000.0</td>\n",
       "      <td>67031000</td>\n",
       "      <td>248324000</td>\n",
       "      <td>642305000</td>\n",
       "      <td>158511000.0</td>\n",
       "      <td>176230000</td>\n",
       "      <td>47715000</td>\n",
       "      <td>246719000.0</td>\n",
       "      <td>328323000.0</td>\n",
       "      <td>714958000</td>\n",
       "    </tr>\n",
       "    <tr>\n",
       "      <th>2</th>\n",
       "      <td>20231</td>\n",
       "      <td>11680656</td>\n",
       "      <td>도곡2동</td>\n",
       "      <td>6567504</td>\n",
       "      <td>9</td>\n",
       "      <td>51201251000.0</td>\n",
       "      <td>1700247000.0</td>\n",
       "      <td>200892000</td>\n",
       "      <td>156300000</td>\n",
       "      <td>686581000</td>\n",
       "      <td>289318000.0</td>\n",
       "      <td>418130000</td>\n",
       "      <td>159125000</td>\n",
       "      <td>44699373000.0</td>\n",
       "      <td>543709000.0</td>\n",
       "      <td>2347576000</td>\n",
       "    </tr>\n",
       "    <tr>\n",
       "      <th>3</th>\n",
       "      <td>20231</td>\n",
       "      <td>11680630</td>\n",
       "      <td>대치4동</td>\n",
       "      <td>4101144</td>\n",
       "      <td>8</td>\n",
       "      <td>57804945000.0</td>\n",
       "      <td>2100242000.0</td>\n",
       "      <td>138814000</td>\n",
       "      <td>139295000</td>\n",
       "      <td>2597010000</td>\n",
       "      <td>1180671000.0</td>\n",
       "      <td>6228110000</td>\n",
       "      <td>673173000</td>\n",
       "      <td>2129640000.0</td>\n",
       "      <td>37289026000.0</td>\n",
       "      <td>5328964000</td>\n",
       "    </tr>\n",
       "    <tr>\n",
       "      <th>4</th>\n",
       "      <td>20231</td>\n",
       "      <td>11680700</td>\n",
       "      <td>세곡동</td>\n",
       "      <td>3885403</td>\n",
       "      <td>8</td>\n",
       "      <td>5656119000.0</td>\n",
       "      <td>1588747000.0</td>\n",
       "      <td>54639000</td>\n",
       "      <td>88871000</td>\n",
       "      <td>719191000</td>\n",
       "      <td>786913000.0</td>\n",
       "      <td>684494000</td>\n",
       "      <td>81232000</td>\n",
       "      <td>290703000.0</td>\n",
       "      <td>242007000.0</td>\n",
       "      <td>1119322000</td>\n",
       "    </tr>\n",
       "  </tbody>\n",
       "</table>\n",
       "</div>"
      ],
      "text/plain": [
       "   기준_년분기_코드    행정동_코드 행정동_코드_명  월_평균_소득_금액  소득_구간_코드        지출_총금액  \\\n",
       "0      20231  11680660     개포1동     5336373         9   250506000.0   \n",
       "1      20231  11680690     개포4동     3550527         7  3535605000.0   \n",
       "2      20231  11680656     도곡2동     6567504         9 51201251000.0   \n",
       "3      20231  11680630     대치4동     4101144         8 57804945000.0   \n",
       "4      20231  11680700      세곡동     3885403         8  5656119000.0   \n",
       "\n",
       "    식료품_지출_총금액  의류_신발_지출_총금액  생활용품_지출_총금액  의료비_지출_총금액    교통_지출_총금액  \\\n",
       "0   70320000.0       8632000      1380000   134557000          0.0   \n",
       "1  905489000.0      67031000    248324000   642305000  158511000.0   \n",
       "2 1700247000.0     200892000    156300000   686581000  289318000.0   \n",
       "3 2100242000.0     138814000    139295000  2597010000 1180671000.0   \n",
       "4 1588747000.0      54639000     88871000   719191000  786913000.0   \n",
       "\n",
       "    교육_지출_총금액  유흥_지출_총금액  여가_문화_지출_총금액     기타_지출_총금액   음식_지출_총금액  \n",
       "0    18870000          0           0.0     5140000.0    11607000  \n",
       "1   176230000   47715000   246719000.0   328323000.0   714958000  \n",
       "2   418130000  159125000 44699373000.0   543709000.0  2347576000  \n",
       "3  6228110000  673173000  2129640000.0 37289026000.0  5328964000  \n",
       "4   684494000   81232000   290703000.0   242007000.0  1119322000  "
      ]
     },
     "execution_count": 5,
     "metadata": {},
     "output_type": "execute_result"
    }
   ],
   "source": [
    "path = '../csv/소득소비-행정동.csv'\n",
    "소득소비_raw = pd.read_csv(path, encoding = 'cp949')\n",
    "소득소비 = 소득소비_raw.copy()\n",
    "소득소비.options.display.float_format = '{:}'.format\n",
    "소득소비.head()"
   ]
  },
  {
   "cell_type": "markdown",
   "metadata": {},
   "source": [
    "데이터프레임 결측치 확인\n",
    "======================"
   ]
  },
  {
   "cell_type": "code",
   "execution_count": 5,
   "metadata": {},
   "outputs": [
    {
     "name": "stdout",
     "output_type": "stream",
     "text": [
      "결측치 확인\n",
      "기준_년분기_코드       0\n",
      "행정동_코드          0\n",
      "행정동_코드_명        0\n",
      "월_평균_소득_금액      0\n",
      "소득_구간_코드        0\n",
      "지출_총금액          0\n",
      "식료품_지출_총금액      0\n",
      "의류_신발_지출_총금액    0\n",
      "생활용품_지출_총금액     0\n",
      "의료비_지출_총금액      0\n",
      "교통_지출_총금액       0\n",
      "교육_지출_총금액       0\n",
      "유흥_지출_총금액       0\n",
      "여가_문화_지출_총금액    0\n",
      "기타_지출_총금액       0\n",
      "음식_지출_총금액       0\n",
      "dtype: int64\n"
     ]
    }
   ],
   "source": [
    "# 데이터프레임의 결측치를 확인\n",
    "missing = 소득소비.isnull().sum()\n",
    "print('결측치 확인')\n",
    "print(missing)"
   ]
  },
  {
   "cell_type": "code",
   "execution_count": 6,
   "metadata": {},
   "outputs": [
    {
     "name": "stdout",
     "output_type": "stream",
     "text": [
      "11680660 동의 음식_지출_총금액 열에 이상치가 없습니다.\n",
      "11680690 동의 음식_지출_총금액 열에 이상치가 없습니다.\n",
      "11680656 동의 음식_지출_총금액 열에 이상치가 없습니다.\n",
      "11680630 동의 음식_지출_총금액 열에 이상치가 없습니다.\n",
      "11680700 동의 음식_지출_총금액 열에 이상치가 없습니다.\n",
      "11680640 동의 음식_지출_총금액 열에 이상치가 없습니다.\n",
      "11680600 동의 음식_지출_총금액 열에 이상치가 없습니다.\n",
      "11680655 동의 음식_지출_총금액 열에 이상치가 없습니다.\n",
      "11680580 동의 음식_지출_총금액 열에 이상치가 없습니다.\n",
      "11680545 동의 음식_지출_총금액 열에 이상치가 없습니다.\n",
      "11680730 동의 음식_지출_총금액 열에 이상치가 없습니다.\n",
      "11680531 동의 음식_지출_총금액 열에 이상치가 없습니다.\n",
      "11680650 동의 음식_지출_총금액 열에 이상치가 없습니다.\n",
      "11680521 동의 음식_지출_총금액 열에 이상치가 없습니다.\n",
      "11680610 동의 음식_지출_총금액 열에 이상치가 없습니다.\n",
      "11680510 동의 음식_지출_총금액 열에 이상치가 없습니다.\n",
      "11680750 동의 음식_지출_총금액 열에 이상치가 없습니다.\n",
      "11680670 동의 음식_지출_총금액 열에 이상치가 없습니다.\n",
      "11680590 동의 음식_지출_총금액 열에 이상치가 없습니다.\n",
      "11680565 동의 음식_지출_총금액 열에 이상치가 없습니다.\n"
     ]
    }
   ],
   "source": [
    "column_check = '음식_지출_총금액'\n",
    "\n",
    "threshold = 3\n",
    "\n",
    "def detect_outliers(df, column):\n",
    "    mean = df[column].mean()\n",
    "    std = df[column].std()\n",
    "    outliers = df[(df[column] - mean).abs() > threshold * std]\n",
    "    return outliers\n",
    "\n",
    "for dong_code in 소득소비['행정동_코드'].unique():\n",
    "    # 해당 동의 데이터를 선택\n",
    "    dong_data = 소득소비[소득소비['행정동_코드'] == dong_code]\n",
    "    \n",
    "    # 해당 동의 이상치 확인\n",
    "    outliers = detect_outliers(dong_data, column_check)\n",
    "    \n",
    "    if not outliers.empty:\n",
    "        print(f\"{dong_code} 동의 {column_check} 열의 이상치:\")\n",
    "        print(outliers)\n",
    "        # 이상치에 대한 처리\n",
    "    else:\n",
    "        print(f\"{dong_code} 동의 {column_check} 열에 이상치가 없습니다.\") "
   ]
  },
  {
   "cell_type": "code",
   "execution_count": 8,
   "metadata": {},
   "outputs": [
    {
     "name": "stderr",
     "output_type": "stream",
     "text": [
      "findfont: Font family 'NanumGothic' not found.\n",
      "findfont: Font family 'NanumGothic' not found.\n",
      "findfont: Font family 'NanumGothic' not found.\n",
      "findfont: Font family 'NanumGothic' not found.\n",
      "/opt/anaconda3/lib/python3.11/site-packages/IPython/core/pylabtools.py:152: UserWarning: Glyph 51020 (\\N{HANGUL SYLLABLE EUM}) missing from current font.\n",
      "  fig.canvas.print_figure(bytes_io, **kw)\n",
      "/opt/anaconda3/lib/python3.11/site-packages/IPython/core/pylabtools.py:152: UserWarning: Glyph 49885 (\\N{HANGUL SYLLABLE SIG}) missing from current font.\n",
      "  fig.canvas.print_figure(bytes_io, **kw)\n",
      "/opt/anaconda3/lib/python3.11/site-packages/IPython/core/pylabtools.py:152: UserWarning: Glyph 51648 (\\N{HANGUL SYLLABLE JI}) missing from current font.\n",
      "  fig.canvas.print_figure(bytes_io, **kw)\n",
      "/opt/anaconda3/lib/python3.11/site-packages/IPython/core/pylabtools.py:152: UserWarning: Glyph 52636 (\\N{HANGUL SYLLABLE CUL}) missing from current font.\n",
      "  fig.canvas.print_figure(bytes_io, **kw)\n",
      "/opt/anaconda3/lib/python3.11/site-packages/IPython/core/pylabtools.py:152: UserWarning: Glyph 52509 (\\N{HANGUL SYLLABLE CONG}) missing from current font.\n",
      "  fig.canvas.print_figure(bytes_io, **kw)\n",
      "/opt/anaconda3/lib/python3.11/site-packages/IPython/core/pylabtools.py:152: UserWarning: Glyph 44552 (\\N{HANGUL SYLLABLE GEUM}) missing from current font.\n",
      "  fig.canvas.print_figure(bytes_io, **kw)\n",
      "/opt/anaconda3/lib/python3.11/site-packages/IPython/core/pylabtools.py:152: UserWarning: Glyph 50529 (\\N{HANGUL SYLLABLE AEG}) missing from current font.\n",
      "  fig.canvas.print_figure(bytes_io, **kw)\n",
      "findfont: Font family 'NanumGothic' not found.\n",
      "findfont: Font family 'NanumGothic' not found.\n",
      "findfont: Font family 'NanumGothic' not found.\n",
      "findfont: Font family 'NanumGothic' not found.\n",
      "findfont: Font family 'NanumGothic' not found.\n",
      "findfont: Font family 'NanumGothic' not found.\n",
      "findfont: Font family 'NanumGothic' not found.\n",
      "findfont: Font family 'NanumGothic' not found.\n",
      "findfont: Font family 'NanumGothic' not found.\n",
      "findfont: Font family 'NanumGothic' not found.\n",
      "findfont: Font family 'NanumGothic' not found.\n",
      "findfont: Font family 'NanumGothic' not found.\n",
      "findfont: Font family 'NanumGothic' not found.\n",
      "findfont: Font family 'NanumGothic' not found.\n",
      "findfont: Font family 'NanumGothic' not found.\n",
      "findfont: Font family 'NanumGothic' not found.\n",
      "findfont: Font family 'NanumGothic' not found.\n",
      "findfont: Font family 'NanumGothic' not found.\n",
      "findfont: Font family 'NanumGothic' not found.\n",
      "findfont: Font family 'NanumGothic' not found.\n",
      "findfont: Font family 'NanumGothic' not found.\n",
      "findfont: Font family 'NanumGothic' not found.\n",
      "findfont: Font family 'NanumGothic' not found.\n",
      "findfont: Font family 'NanumGothic' not found.\n",
      "findfont: Font family 'NanumGothic' not found.\n",
      "findfont: Font family 'NanumGothic' not found.\n",
      "findfont: Font family 'NanumGothic' not found.\n"
     ]
    },
    {
     "data": {
      "image/png": "[encoded data removed]",
      "text/plain": [
       "<Figure size 1000x600 with 1 Axes>"
      ]
     },
     "metadata": {},
     "output_type": "display_data"
    }
   ],
   "source": [
    "# 그림 그릴 열 선택\n",
    "column_plot = '음식_지출_총금액'\n",
    "\n",
    "# 상자 그림 생성\n",
    "plt.figure(figsize=(10, 6),dpi=100)\n",
    "plt.rcParams['font.family'] = 'NanumGothic'\n",
    "plt.boxplot(소득소비[column_plot], vert=False)\n",
    "plt.title(f'{column_plot}')\n",
    "plt.xlabel(column_plot)\n",
    "plt.show()"
   ]
  },
  {
   "cell_type": "code",
   "execution_count": 9,
   "metadata": {},
   "outputs": [],
   "source": [
    "\n",
    "\n",
    "소득소비 = 소득소비_raw.copy()\n"
   ]
  },
  {
   "cell_type": "code",
   "execution_count": 10,
   "metadata": {},
   "outputs": [
    {
     "name": "stdout",
     "output_type": "stream",
     "text": [
      "     기준_년분기_코드    행정동_코드 행정동_코드_명  월_평균_소득_금액        지출_총금액   음식_지출_총금액\n",
      "0        20231  11680660      개포동     5336373  2.505060e+08    11607000\n",
      "1        20231  11680690      개포동     3550527  3.535605e+09   714958000\n",
      "2        20231  11680656      도곡동     6567504  5.120125e+10  2347576000\n",
      "3        20231  11680630      대치동     4101144  5.780494e+10  5328964000\n",
      "4        20231  11680700      세곡동     3885403  5.656119e+09  1119322000\n",
      "..         ...       ...      ...         ...           ...         ...\n",
      "375      20224  11680700      세곡동     3885403  5.929313e+09  1186333000\n",
      "376      20224  11680580      삼성동     5098096  4.538079e+10  6194988000\n",
      "377      20224  11680750      수서동     3847379  7.625836e+10  1510165000\n",
      "378      20224  11680531      논현동     3973993  2.752541e+10  6057481000\n",
      "379      20224  11680600      대치동     7421305  1.181893e+10  1125905000\n",
      "\n",
      "[380 rows x 6 columns]\n"
     ]
    }
   ],
   "source": [
    "# 필요한 열 선택\n",
    "selected_columns = ['기준_년분기_코드', '행정동_코드', '행정동_코드_명', '월_평균_소득_금액', '지출_총금액', '음식_지출_총금액']\n",
    "\n",
    "# 동 이름에서 숫자 부분을 제외하고 그룹화하는 함수를 정의\n",
    "def combine_dong(dong):\n",
    "    return ''.join(filter(str.isalpha, dong))\n",
    "\n",
    "# 동 이름에서 숫자 부분을 제외하고 그룹화합니다.\n",
    "소득소비['행정동_코드_명'] = 소득소비['행정동_코드_명'].apply(combine_dong)\n",
    "\n",
    "# 필요한 열만 선택하고 동 이름에서 숫자 부분을 제외한 후 중복된 행을 제거\n",
    "processed_data = 소득소비[selected_columns].drop_duplicates()\n",
    "\n",
    "# 데이터 출력\n",
    "print(processed_data)\n"
   ]
  },
  {
   "cell_type": "code",
   "execution_count": 4,
   "metadata": {},
   "outputs": [],
   "source": [
    "processed_data.to_csv('소득소비_new.csv',encoding='utf-8-sig')"
   ]
  },
  {
   "cell_type": "code",
   "execution_count": 11,
   "metadata": {},
   "outputs": [
    {
     "name": "stderr",
     "output_type": "stream",
     "text": [
      "findfont: Font family 'NanumGothic' not found.\n",
      "findfont: Font family 'NanumGothic' not found.\n",
      "findfont: Font family 'NanumGothic' not found.\n",
      "findfont: Font family 'NanumGothic' not found.\n",
      "/opt/anaconda3/lib/python3.11/site-packages/IPython/core/pylabtools.py:152: UserWarning: Glyph 51020 (\\N{HANGUL SYLLABLE EUM}) missing from current font.\n",
      "  fig.canvas.print_figure(bytes_io, **kw)\n",
      "/opt/anaconda3/lib/python3.11/site-packages/IPython/core/pylabtools.py:152: UserWarning: Glyph 49885 (\\N{HANGUL SYLLABLE SIG}) missing from current font.\n",
      "  fig.canvas.print_figure(bytes_io, **kw)\n",
      "/opt/anaconda3/lib/python3.11/site-packages/IPython/core/pylabtools.py:152: UserWarning: Glyph 51648 (\\N{HANGUL SYLLABLE JI}) missing from current font.\n",
      "  fig.canvas.print_figure(bytes_io, **kw)\n",
      "/opt/anaconda3/lib/python3.11/site-packages/IPython/core/pylabtools.py:152: UserWarning: Glyph 52636 (\\N{HANGUL SYLLABLE CUL}) missing from current font.\n",
      "  fig.canvas.print_figure(bytes_io, **kw)\n",
      "/opt/anaconda3/lib/python3.11/site-packages/IPython/core/pylabtools.py:152: UserWarning: Glyph 52509 (\\N{HANGUL SYLLABLE CONG}) missing from current font.\n",
      "  fig.canvas.print_figure(bytes_io, **kw)\n",
      "/opt/anaconda3/lib/python3.11/site-packages/IPython/core/pylabtools.py:152: UserWarning: Glyph 44552 (\\N{HANGUL SYLLABLE GEUM}) missing from current font.\n",
      "  fig.canvas.print_figure(bytes_io, **kw)\n",
      "/opt/anaconda3/lib/python3.11/site-packages/IPython/core/pylabtools.py:152: UserWarning: Glyph 50529 (\\N{HANGUL SYLLABLE AEG}) missing from current font.\n",
      "  fig.canvas.print_figure(bytes_io, **kw)\n",
      "findfont: Font family 'NanumGothic' not found.\n",
      "findfont: Font family 'NanumGothic' not found.\n",
      "findfont: Font family 'NanumGothic' not found.\n",
      "findfont: Font family 'NanumGothic' not found.\n",
      "findfont: Font family 'NanumGothic' not found.\n",
      "findfont: Font family 'NanumGothic' not found.\n",
      "findfont: Font family 'NanumGothic' not found.\n",
      "findfont: Font family 'NanumGothic' not found.\n",
      "findfont: Font family 'NanumGothic' not found.\n",
      "findfont: Font family 'NanumGothic' not found.\n",
      "findfont: Font family 'NanumGothic' not found.\n",
      "findfont: Font family 'NanumGothic' not found.\n",
      "findfont: Font family 'NanumGothic' not found.\n",
      "findfont: Font family 'NanumGothic' not found.\n",
      "findfont: Font family 'NanumGothic' not found.\n",
      "findfont: Font family 'NanumGothic' not found.\n",
      "findfont: Font family 'NanumGothic' not found.\n",
      "findfont: Font family 'NanumGothic' not found.\n",
      "findfont: Font family 'NanumGothic' not found.\n",
      "findfont: Font family 'NanumGothic' not found.\n",
      "findfont: Font family 'NanumGothic' not found.\n",
      "findfont: Font family 'NanumGothic' not found.\n",
      "findfont: Font family 'NanumGothic' not found.\n",
      "findfont: Font family 'NanumGothic' not found.\n",
      "findfont: Font family 'NanumGothic' not found.\n",
      "findfont: Font family 'NanumGothic' not found.\n",
      "findfont: Font family 'NanumGothic' not found.\n"
     ]
    },
    {
     "data": {
      "image/png": "[encoded data removed]",
      "text/plain": [
       "<Figure size 1000x600 with 1 Axes>"
      ]
     },
     "metadata": {},
     "output_type": "display_data"
    }
   ],
   "source": [
    "# 그림 그릴 열 선택\n",
    "column_plot = '음식_지출_총금액'\n",
    "\n",
    "# 상자 그림 생성\n",
    "plt.figure(figsize=(10, 6),dpi=100)\n",
    "plt.rcParams['font.family'] = 'NanumGothic'\n",
    "plt.boxplot(processed_data[column_plot], vert=False)\n",
    "plt.title(f'{column_plot}')\n",
    "plt.xlabel(column_plot)\n",
    "plt.show()"
   ]
  },
  {
   "cell_type": "code",
   "execution_count": null,
   "metadata": {},
   "outputs": [],
   "source": []
  }
 ],
 "metadata": {
  "interpreter": {
   "hash": "40d3a090f54c6569ab1632332b64b2c03c39dcf918b08424e98f38b5ae0af88f"
  },
  "kernelspec": {
   "display_name": "Python 3.11.7 ('base')",
   "language": "python",
   "name": "python3"
  },
  "language_info": {
   "codemirror_mode": {
    "name": "ipython",
    "version": 3
   },
   "file_extension": ".py",
   "mimetype": "text/x-python",
   "name": "python",
   "nbconvert_exporter": "python",
   "pygments_lexer": "ipython3",
   "version": "3.11.7"
  }
 },
 "nbformat": 4,
 "nbformat_minor": 2
}
