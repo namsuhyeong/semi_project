{
 "cells": [
  {
   "cell_type": "markdown",
   "metadata": {},
   "source": [
    "# < 직장인구_상권별_전처리 >\n",
    "# < 4조 : 이가희 >"
   ]
  },
  {
   "cell_type": "code",
   "execution_count": 233,
   "metadata": {},
   "outputs": [],
   "source": [
    "import numpy as np\n",
    "import pandas as pd \n",
    "import seaborn as sns\n",
    "import matplotlib.pyplot as plt \n",
    "%matplotlib inline\n",
    "\n",
    "import matplotlib.pyplot as plt\n",
    "import seaborn as sns\n",
    "\n",
    "plt.rc('font', family='AppleGothic')\n",
    "plt.rc('axes', unicode_minus=False)\n"
   ]
  },
  {
   "cell_type": "markdown",
   "metadata": {},
   "source": [
    "# 데이터 및 분석 설명\n",
    "\n",
    "**상권**별 **직장인구**에 관한 데이터 입니다   \n",
    "\n",
    "**상권**별이기에 행정동 코드가 따로없고 대신 상권별로 구분되어있습니다(골목상권/발달상권/전통시장/관광특구)  \n",
    "\n",
    "따라서 다른 상권구분이 되어있는데이터와 엮어서 분석하면 될 것 같습니다  \n",
    "\n",
    "상권별로 전처리를 진행하였고, 2023년 1~3분기 데이터만 가지고 진행하였습니다  \n",
    "\n",
    "**기준년도 / 상권 / 총 직장 인구수 / 성별 / 연령대별** 로 나뉘어져 있습니다   \n",
    "\n",
    "성별 + 연령이 묶여있는데이터까지 모두 처리시 데이터의 양이 너무 작아져서 (약 96개 남음) 제외하고 처리했습니다\n",
    "\n",
    "10대 인구는 연령 특성상 직장인의 수가 작아 매우 적은 값을 보이는 경향이 있습니다  \n",
    "\n",
    "전처리 후 306 -> 213개의 데이터가 되었습니다  "
   ]
  },
  {
   "cell_type": "markdown",
   "metadata": {},
   "source": [
    "# 직장인구- 상권\n",
    "> 데이터프레임 \n",
    "* 직장인구_상권 / 직장인구_상권_raw\n",
    "* A / A_raw : 골목상권\n",
    "* D / D_raw : 발달상권\n",
    "* R / R_raw : 전통시장\n",
    "* U / U_raw : 관광특구"
   ]
  },
  {
   "cell_type": "markdown",
   "metadata": {},
   "source": [
    "# 진행과정 \n",
    "0. 결측치 확인\n",
    "1. 2023년 1~3분기 데이터 추출\n",
    "2. 상권별로 데이터 프레임 나눔\n",
    "3. 전처리를 위한 함수 작성\n",
    "4. 상권별 이상치 개수 확인 / 제거 \n",
    "5. 박스플롯으로 이상치 전후 데이터 시각화 \n",
    "6. 데이터 통합\n",
    "7. 전처리 전후의 통계값 비교\n",
    "8. 데이터 프레임을 csv 파일로 저장 \n",
    "\n",
    "# 앞으로 진행사항 \n",
    "1. 상권코드 별로 분류..?\n",
    "2. 상권별로 묶어진 데이터와 함께 상권코드를 결합해서(점포-상권) 분석을 해보면 좋을것 같습니다  \n",
    "2-1. 상권별로 성별/연령대 별 어떠한 서비스 업종(음식점) 이 인기가 많은지   \n",
    "2-2. 직장인구-상권시각화에서 예시로 남성 30대의 인구가 많다 -> 어떠한 서비스업종이 많고 매출이 많은지 그것이 유동인구와 관계가 있는지 확인\n",
    "\n",
    "# 고민사항\n",
    "1. 상권코드를 어떻게 구분할지 고민이다. 하나하나 처리하기에는 각자 변수가 너무 달라서 처리도 어려울것 같고 기준을 어떻게 잡아야할지 또 그 기준이 주관적인것 같아 고민중 \n",
    "2. 성별+연령대별 데이터까지 모두 전처리를 하면 데이터가 96개이고 안하면 213개? 이정도 되는데 성별+연령대 데이터가 필요할까요? 필요할지 안할지 여부에 따라서 다시 진행하겠습니다\n",
    "\n",
    "# 유의사항\n",
    "1. 제 맥북이라... 경로가 절대경로 + 인코딩 값이 조금 다릅니다... 바꿔서 사용하셔야 해요 \n",
    "2. 폰트도 애플고딕에서 나눔고딕으로 바꿔서 사용하셔야 플롯이 보일것 같아요... "
   ]
  },
  {
   "cell_type": "code",
   "execution_count": 234,
   "metadata": {},
   "outputs": [
    {
     "data": {
      "text/html": [
       "<div>\n",
       "<style scoped>\n",
       "    .dataframe tbody tr th:only-of-type {\n",
       "        vertical-align: middle;\n",
       "    }\n",
       "\n",
       "    .dataframe tbody tr th {\n",
       "        vertical-align: top;\n",
       "    }\n",
       "\n",
       "    .dataframe thead th {\n",
       "        text-align: right;\n",
       "    }\n",
       "</style>\n",
       "<table border=\"1\" class=\"dataframe\">\n",
       "  <thead>\n",
       "    <tr style=\"text-align: right;\">\n",
       "      <th></th>\n",
       "      <th>기준_년분기_코드</th>\n",
       "      <th>상권_구분_코드</th>\n",
       "      <th>상권_구분_코드_명</th>\n",
       "      <th>상권_코드</th>\n",
       "      <th>상권_코드_명</th>\n",
       "      <th>총_직장_인구_수</th>\n",
       "      <th>남성_직장_인구_수</th>\n",
       "      <th>여성_직장_인구_수</th>\n",
       "      <th>연령대_10_직장_인구_수</th>\n",
       "      <th>연령대_20_직장_인구_수</th>\n",
       "      <th>...</th>\n",
       "      <th>남성연령대_30_직장_인구_수</th>\n",
       "      <th>남성연령대_40_직장_인구_수</th>\n",
       "      <th>남성연령대_50_직장_인구_수</th>\n",
       "      <th>남성연령대_60_이상_직장_인구_수</th>\n",
       "      <th>여성연령대_10_직장_인구_수</th>\n",
       "      <th>여성연령대_20_직장_인구_수</th>\n",
       "      <th>여성연령대_30_직장_인구_수</th>\n",
       "      <th>여성연령대_40_직장_인구_수</th>\n",
       "      <th>여성연령대_50_직장_인구_수</th>\n",
       "      <th>여성연령대_60_이상_직장_인구_수</th>\n",
       "    </tr>\n",
       "  </thead>\n",
       "  <tbody>\n",
       "    <tr>\n",
       "      <th>0</th>\n",
       "      <td>20191</td>\n",
       "      <td>A</td>\n",
       "      <td>골목상권</td>\n",
       "      <td>3110980</td>\n",
       "      <td>개포지구대옆</td>\n",
       "      <td>613</td>\n",
       "      <td>361</td>\n",
       "      <td>252</td>\n",
       "      <td>2</td>\n",
       "      <td>95</td>\n",
       "      <td>...</td>\n",
       "      <td>78</td>\n",
       "      <td>104</td>\n",
       "      <td>82</td>\n",
       "      <td>66</td>\n",
       "      <td>2</td>\n",
       "      <td>64</td>\n",
       "      <td>69</td>\n",
       "      <td>56</td>\n",
       "      <td>43</td>\n",
       "      <td>18</td>\n",
       "    </tr>\n",
       "    <tr>\n",
       "      <th>1</th>\n",
       "      <td>20191</td>\n",
       "      <td>A</td>\n",
       "      <td>골목상권</td>\n",
       "      <td>3110950</td>\n",
       "      <td>논현역 7번</td>\n",
       "      <td>344</td>\n",
       "      <td>203</td>\n",
       "      <td>141</td>\n",
       "      <td>0</td>\n",
       "      <td>76</td>\n",
       "      <td>...</td>\n",
       "      <td>78</td>\n",
       "      <td>60</td>\n",
       "      <td>23</td>\n",
       "      <td>16</td>\n",
       "      <td>0</td>\n",
       "      <td>50</td>\n",
       "      <td>50</td>\n",
       "      <td>25</td>\n",
       "      <td>13</td>\n",
       "      <td>3</td>\n",
       "    </tr>\n",
       "    <tr>\n",
       "      <th>2</th>\n",
       "      <td>20191</td>\n",
       "      <td>D</td>\n",
       "      <td>발달상권</td>\n",
       "      <td>3120200</td>\n",
       "      <td>학동사거리</td>\n",
       "      <td>15890</td>\n",
       "      <td>7170</td>\n",
       "      <td>8720</td>\n",
       "      <td>119</td>\n",
       "      <td>5867</td>\n",
       "      <td>...</td>\n",
       "      <td>2671</td>\n",
       "      <td>1460</td>\n",
       "      <td>660</td>\n",
       "      <td>461</td>\n",
       "      <td>66</td>\n",
       "      <td>4002</td>\n",
       "      <td>2895</td>\n",
       "      <td>1175</td>\n",
       "      <td>383</td>\n",
       "      <td>199</td>\n",
       "    </tr>\n",
       "    <tr>\n",
       "      <th>3</th>\n",
       "      <td>20191</td>\n",
       "      <td>D</td>\n",
       "      <td>발달상권</td>\n",
       "      <td>3120223</td>\n",
       "      <td>휘문고교사거리</td>\n",
       "      <td>7590</td>\n",
       "      <td>4521</td>\n",
       "      <td>3069</td>\n",
       "      <td>27</td>\n",
       "      <td>1449</td>\n",
       "      <td>...</td>\n",
       "      <td>1769</td>\n",
       "      <td>1274</td>\n",
       "      <td>532</td>\n",
       "      <td>371</td>\n",
       "      <td>14</td>\n",
       "      <td>887</td>\n",
       "      <td>1116</td>\n",
       "      <td>564</td>\n",
       "      <td>279</td>\n",
       "      <td>209</td>\n",
       "    </tr>\n",
       "    <tr>\n",
       "      <th>4</th>\n",
       "      <td>20191</td>\n",
       "      <td>D</td>\n",
       "      <td>발달상권</td>\n",
       "      <td>3120210</td>\n",
       "      <td>선릉역</td>\n",
       "      <td>59677</td>\n",
       "      <td>30858</td>\n",
       "      <td>28819</td>\n",
       "      <td>276</td>\n",
       "      <td>16803</td>\n",
       "      <td>...</td>\n",
       "      <td>9517</td>\n",
       "      <td>7145</td>\n",
       "      <td>4609</td>\n",
       "      <td>2663</td>\n",
       "      <td>154</td>\n",
       "      <td>10001</td>\n",
       "      <td>7280</td>\n",
       "      <td>5451</td>\n",
       "      <td>4275</td>\n",
       "      <td>1658</td>\n",
       "    </tr>\n",
       "  </tbody>\n",
       "</table>\n",
       "<p>5 rows × 26 columns</p>\n",
       "</div>"
      ],
      "text/plain": [
       "   기준_년분기_코드 상권_구분_코드 상권_구분_코드_명    상권_코드  상권_코드_명  총_직장_인구_수  남성_직장_인구_수  \\\n",
       "0      20191        A       골목상권  3110980   개포지구대옆        613         361   \n",
       "1      20191        A       골목상권  3110950   논현역 7번        344         203   \n",
       "2      20191        D       발달상권  3120200    학동사거리      15890        7170   \n",
       "3      20191        D       발달상권  3120223  휘문고교사거리       7590        4521   \n",
       "4      20191        D       발달상권  3120210      선릉역      59677       30858   \n",
       "\n",
       "   여성_직장_인구_수  연령대_10_직장_인구_수  연령대_20_직장_인구_수  ...  남성연령대_30_직장_인구_수  \\\n",
       "0         252               2              95  ...                78   \n",
       "1         141               0              76  ...                78   \n",
       "2        8720             119            5867  ...              2671   \n",
       "3        3069              27            1449  ...              1769   \n",
       "4       28819             276           16803  ...              9517   \n",
       "\n",
       "   남성연령대_40_직장_인구_수  남성연령대_50_직장_인구_수  남성연령대_60_이상_직장_인구_수  여성연령대_10_직장_인구_수  \\\n",
       "0               104                82                   66                 2   \n",
       "1                60                23                   16                 0   \n",
       "2              1460               660                  461                66   \n",
       "3              1274               532                  371                14   \n",
       "4              7145              4609                 2663               154   \n",
       "\n",
       "   여성연령대_20_직장_인구_수  여성연령대_30_직장_인구_수  여성연령대_40_직장_인구_수  여성연령대_50_직장_인구_수  \\\n",
       "0                64                69                56                43   \n",
       "1                50                50                25                13   \n",
       "2              4002              2895              1175               383   \n",
       "3               887              1116               564               279   \n",
       "4             10001              7280              5451              4275   \n",
       "\n",
       "   여성연령대_60_이상_직장_인구_수  \n",
       "0                   18  \n",
       "1                    3  \n",
       "2                  199  \n",
       "3                  209  \n",
       "4                 1658  \n",
       "\n",
       "[5 rows x 26 columns]"
      ]
     },
     "execution_count": 234,
     "metadata": {},
     "output_type": "execute_result"
    }
   ],
   "source": [
    "직장인구_상권= pd.read_csv('/Users/leegahee/git_folder/semi_project/강남구/직장인구-상권.csv',encoding='EUC-KR')\n",
    "직장인구_상권_raw = 직장인구_상권.copy()\n",
    "직장인구_상권.head()"
   ]
  },
  {
   "cell_type": "markdown",
   "metadata": {},
   "source": [
    "# 0. 결측치 확인"
   ]
  },
  {
   "cell_type": "code",
   "execution_count": 235,
   "metadata": {},
   "outputs": [
    {
     "data": {
      "text/plain": [
       "기준_년분기_코드              0\n",
       "상권_구분_코드               0\n",
       "상권_구분_코드_명             0\n",
       "상권_코드                  0\n",
       "상권_코드_명                0\n",
       "총_직장_인구_수              0\n",
       "남성_직장_인구_수             0\n",
       "여성_직장_인구_수             0\n",
       "연령대_10_직장_인구_수         0\n",
       "연령대_20_직장_인구_수         0\n",
       "연령대_30_직장_인구_수         0\n",
       "연령대_40_직장_인구_수         0\n",
       "연령대_50_직장_인구_수         0\n",
       "연령대_60_이상_직장_인구_수      0\n",
       "남성연령대_10_직장_인구_수       0\n",
       "남성연령대_20_직장_인구_수       0\n",
       "남성연령대_30_직장_인구_수       0\n",
       "남성연령대_40_직장_인구_수       0\n",
       "남성연령대_50_직장_인구_수       0\n",
       "남성연령대_60_이상_직장_인구_수    0\n",
       "여성연령대_10_직장_인구_수       0\n",
       "여성연령대_20_직장_인구_수       0\n",
       "여성연령대_30_직장_인구_수       0\n",
       "여성연령대_40_직장_인구_수       0\n",
       "여성연령대_50_직장_인구_수       0\n",
       "여성연령대_60_이상_직장_인구_수    0\n",
       "dtype: int64"
      ]
     },
     "execution_count": 235,
     "metadata": {},
     "output_type": "execute_result"
    }
   ],
   "source": [
    "직장인구_상권.isna().sum()"
   ]
  },
  {
   "cell_type": "markdown",
   "metadata": {},
   "source": [
    "# 1. 2023년 1~3분기 데이터 추출"
   ]
  },
  {
   "cell_type": "code",
   "execution_count": 236,
   "metadata": {},
   "outputs": [
    {
     "data": {
      "text/plain": [
       "array([20191, 20212, 20221, 20222, 20223, 20224, 20231, 20232, 20233,\n",
       "       20214, 20194, 20202, 20203, 20204, 20213, 20201, 20211])"
      ]
     },
     "execution_count": 236,
     "metadata": {},
     "output_type": "execute_result"
    }
   ],
   "source": [
    "직장인구_상권['기준_년분기_코드'].unique()"
   ]
  },
  {
   "cell_type": "code",
   "execution_count": 237,
   "metadata": {},
   "outputs": [
    {
     "data": {
      "text/plain": [
       "array([20231, 20232, 20233])"
      ]
     },
     "execution_count": 237,
     "metadata": {},
     "output_type": "execute_result"
    }
   ],
   "source": [
    "condition = 직장인구_상권['기준_년분기_코드'].isin([20231, 20232, 20233, 20234])\n",
    "직장인구_상권 = 직장인구_상권[condition]\n",
    "직장인구_상권_raw = 직장인구_상권\n",
    "직장인구_상권['기준_년분기_코드'].unique()"
   ]
  },
  {
   "cell_type": "code",
   "execution_count": 238,
   "metadata": {},
   "outputs": [
    {
     "name": "stdout",
     "output_type": "stream",
     "text": [
      "<class 'pandas.core.frame.DataFrame'>\n",
      "Index: 306 entries, 612 to 1733\n",
      "Data columns (total 26 columns):\n",
      " #   Column               Non-Null Count  Dtype \n",
      "---  ------               --------------  ----- \n",
      " 0   기준_년분기_코드            306 non-null    int64 \n",
      " 1   상권_구분_코드             306 non-null    object\n",
      " 2   상권_구분_코드_명           306 non-null    object\n",
      " 3   상권_코드                306 non-null    int64 \n",
      " 4   상권_코드_명              306 non-null    object\n",
      " 5   총_직장_인구_수            306 non-null    int64 \n",
      " 6   남성_직장_인구_수           306 non-null    int64 \n",
      " 7   여성_직장_인구_수           306 non-null    int64 \n",
      " 8   연령대_10_직장_인구_수       306 non-null    int64 \n",
      " 9   연령대_20_직장_인구_수       306 non-null    int64 \n",
      " 10  연령대_30_직장_인구_수       306 non-null    int64 \n",
      " 11  연령대_40_직장_인구_수       306 non-null    int64 \n",
      " 12  연령대_50_직장_인구_수       306 non-null    int64 \n",
      " 13  연령대_60_이상_직장_인구_수    306 non-null    int64 \n",
      " 14  남성연령대_10_직장_인구_수     306 non-null    int64 \n",
      " 15  남성연령대_20_직장_인구_수     306 non-null    int64 \n",
      " 16  남성연령대_30_직장_인구_수     306 non-null    int64 \n",
      " 17  남성연령대_40_직장_인구_수     306 non-null    int64 \n",
      " 18  남성연령대_50_직장_인구_수     306 non-null    int64 \n",
      " 19  남성연령대_60_이상_직장_인구_수  306 non-null    int64 \n",
      " 20  여성연령대_10_직장_인구_수     306 non-null    int64 \n",
      " 21  여성연령대_20_직장_인구_수     306 non-null    int64 \n",
      " 22  여성연령대_30_직장_인구_수     306 non-null    int64 \n",
      " 23  여성연령대_40_직장_인구_수     306 non-null    int64 \n",
      " 24  여성연령대_50_직장_인구_수     306 non-null    int64 \n",
      " 25  여성연령대_60_이상_직장_인구_수  306 non-null    int64 \n",
      "dtypes: int64(23), object(3)\n",
      "memory usage: 64.5+ KB\n"
     ]
    }
   ],
   "source": [
    "직장인구_상권.info()"
   ]
  },
  {
   "cell_type": "code",
   "execution_count": 239,
   "metadata": {},
   "outputs": [
    {
     "data": {
      "text/plain": [
       "array(['D', 'A', 'R', 'U'], dtype=object)"
      ]
     },
     "execution_count": 239,
     "metadata": {},
     "output_type": "execute_result"
    }
   ],
   "source": [
    "직장인구_상권['상권_구분_코드'].unique()\n",
    "# A : 골목상권\n",
    "# D : 발달상권\n",
    "# R : 전통시장\n",
    "# U : 관광특구"
   ]
  },
  {
   "cell_type": "code",
   "execution_count": 240,
   "metadata": {},
   "outputs": [],
   "source": [
    "A_raw = 직장인구_상권[직장인구_상권['상권_구분_코드'] == 'A']\n",
    "D_raw = 직장인구_상권[직장인구_상권['상권_구분_코드'] == 'D']\n",
    "R_raw = 직장인구_상권[직장인구_상권['상권_구분_코드'] == 'R']\n",
    "U_raw = 직장인구_상권[직장인구_상권['상권_구분_코드'] == 'U']\n",
    "A = A_raw.copy()\n",
    "D = D_raw.copy()\n",
    "R = R_raw.copy()\n",
    "U = U_raw.copy()\n"
   ]
  },
  {
   "cell_type": "code",
   "execution_count": 241,
   "metadata": {},
   "outputs": [
    {
     "data": {
      "text/plain": [
       "(162, 117, 24, 3)"
      ]
     },
     "execution_count": 241,
     "metadata": {},
     "output_type": "execute_result"
    }
   ],
   "source": [
    "len(A),len(D),len(R),len(U)"
   ]
  },
  {
   "cell_type": "markdown",
   "metadata": {},
   "source": [
    "# 3. 전처리를 위한 함수 작성"
   ]
  },
  {
   "cell_type": "markdown",
   "metadata": {},
   "source": [
    "IQR 을 이용하여 이상치를 탐지하였습니다"
   ]
  },
  {
   "cell_type": "code",
   "execution_count": 242,
   "metadata": {},
   "outputs": [],
   "source": [
    "import matplotlib.pyplot as plt\n",
    "\n",
    "# IQR 계산\n",
    "def iqr_cal(df, column):\n",
    "\n",
    "    q25 = np.percentile(df[column].values,25)\n",
    "    q75 = np.percentile(df[column].values,75)\n",
    "    iqr = q75-q25\n",
    "    iqr_weight = iqr*1.5\n",
    "    low = q25 - iqr_weight\n",
    "    high = q75+iqr_weight\n",
    "    return low,high\n"
   ]
  },
  {
   "cell_type": "code",
   "execution_count": 243,
   "metadata": {},
   "outputs": [],
   "source": [
    "# 이상치 탐지\n",
    "def find_outlier_value(df,column):\n",
    "    temp = []\n",
    "    for i in df[column] :\n",
    "        if  (i < iqr_cal(df,column)[0]) or (i > iqr_cal(df,column)[1]) :\n",
    "            temp.append(i)\n",
    "    return temp\n"
   ]
  },
  {
   "cell_type": "code",
   "execution_count": 244,
   "metadata": {},
   "outputs": [],
   "source": [
    "# 이상치 탐지\n",
    "def find_outlier_value_len(df,column):\n",
    "    temp = []\n",
    "    for i in df[column] :\n",
    "        if  (i < iqr_cal(df,column)[0]) or (i > iqr_cal(df,column)[1]) :\n",
    "            temp.append(i)\n",
    "    print(f'{column} 에 이상치 {len(temp)} 개 존재')\n",
    "    return temp\n"
   ]
  },
  {
   "cell_type": "code",
   "execution_count": 245,
   "metadata": {},
   "outputs": [],
   "source": [
    "def find_outlier(df):\n",
    "    outliers = []\n",
    "    for i in range(5, 14):\n",
    "        outliers.append(find_outlier_value_len(df, df.columns[i]))\n",
    "    return outliers\n"
   ]
  },
  {
   "cell_type": "code",
   "execution_count": 246,
   "metadata": {},
   "outputs": [],
   "source": [
    "def remove_outliers(df):\n",
    "    for i in range(5,14):\n",
    "        outliers = find_outlier_value(df,df.columns[i])\n",
    "        df = df[~df.iloc[:,i].isin(outliers)]\n",
    "    return df"
   ]
  },
  {
   "cell_type": "markdown",
   "metadata": {},
   "source": [
    "# 4. 상권별 이상치 개수 확인 / 제거  \n",
    "# 5. 박스플롯으로 이상치 전후 데이터 시각화 "
   ]
  },
  {
   "cell_type": "markdown",
   "metadata": {},
   "source": [
    "# A : 골목상권"
   ]
  },
  {
   "cell_type": "code",
   "execution_count": 247,
   "metadata": {},
   "outputs": [
    {
     "name": "stdout",
     "output_type": "stream",
     "text": [
      "총_직장_인구_수 에 이상치 6 개 존재\n",
      "남성_직장_인구_수 에 이상치 6 개 존재\n",
      "여성_직장_인구_수 에 이상치 6 개 존재\n",
      "연령대_10_직장_인구_수 에 이상치 15 개 존재\n",
      "연령대_20_직장_인구_수 에 이상치 15 개 존재\n",
      "연령대_30_직장_인구_수 에 이상치 9 개 존재\n",
      "연령대_40_직장_인구_수 에 이상치 6 개 존재\n",
      "연령대_50_직장_인구_수 에 이상치 9 개 존재\n",
      "연령대_60_이상_직장_인구_수 에 이상치 12 개 존재\n"
     ]
    },
    {
     "data": {
      "text/plain": [
       "[[10837, 5085, 10837, 5085, 10837, 5085],\n",
       " [6932, 3711, 6932, 3711, 6932, 3711],\n",
       " [3905, 1374, 3905, 1374, 3905, 1374],\n",
       " [34, 19, 17, 15, 18, 34, 19, 17, 15, 18, 34, 19, 17, 15, 18],\n",
       " [2175,\n",
       "  719,\n",
       "  829,\n",
       "  978,\n",
       "  679,\n",
       "  2175,\n",
       "  719,\n",
       "  829,\n",
       "  978,\n",
       "  679,\n",
       "  2175,\n",
       "  719,\n",
       "  829,\n",
       "  978,\n",
       "  679],\n",
       " [2199, 1305, 2002, 2199, 1305, 2002, 2199, 1305, 2002],\n",
       " [3202, 1271, 3202, 1271, 3202, 1271],\n",
       " [3019, 625, 637, 3019, 625, 637, 3019, 625, 637],\n",
       " [451, 459, 425, 901, 451, 459, 425, 901, 451, 459, 425, 901]]"
      ]
     },
     "execution_count": 247,
     "metadata": {},
     "output_type": "execute_result"
    }
   ],
   "source": [
    "find_outlier(A)"
   ]
  },
  {
   "cell_type": "code",
   "execution_count": 248,
   "metadata": {},
   "outputs": [],
   "source": [
    "A = remove_outliers(A)"
   ]
  },
  {
   "cell_type": "code",
   "execution_count": 249,
   "metadata": {},
   "outputs": [
    {
     "data": {
      "image/png": "[encoded data removed]",
      "text/plain": [
       "<Figure size 1200x500 with 1 Axes>"
      ]
     },
     "metadata": {},
     "output_type": "display_data"
    }
   ],
   "source": [
    "ax, pig = plt.subplots(figsize=(12,5))\n",
    "label = ['총','남성','여성']\n",
    "plt.title('A 가공전 (총/남/여) ')\n",
    "plt.boxplot([A_raw.iloc[:,5], A_raw.iloc[:,6], A_raw.iloc[:,7]],labels=label)\n",
    "plt.show()"
   ]
  },
  {
   "cell_type": "code",
   "execution_count": 250,
   "metadata": {},
   "outputs": [
    {
     "data": {
      "image/png": "[encoded data removed]",
      "text/plain": [
       "<Figure size 1200x500 with 1 Axes>"
      ]
     },
     "metadata": {},
     "output_type": "display_data"
    }
   ],
   "source": [
    "ax, pig = plt.subplots(figsize=(12,5))\n",
    "label = ['총','남성','여성']\n",
    "plt.title('A 가공후 (총/남/여) ')\n",
    "plt.boxplot([A.iloc[:,5], A.iloc[:,6], A.iloc[:,7]],labels=label)\n",
    "plt.show()"
   ]
  },
  {
   "cell_type": "code",
   "execution_count": 251,
   "metadata": {},
   "outputs": [
    {
     "data": {
      "image/png": "[encoded data removed]",
      "text/plain": [
       "<Figure size 1200x500 with 1 Axes>"
      ]
     },
     "metadata": {},
     "output_type": "display_data"
    }
   ],
   "source": [
    "ax, pig = plt.subplots(figsize=(12,5))\n",
    "label = ['10대','20대','30대','40대','50대','60대이상']\n",
    "plt.title('A 가공전 (연령대)')\n",
    "plt.boxplot([A_raw.iloc[:,8], A_raw.iloc[:,9], A_raw.iloc[:,10],A_raw.iloc[:,11],A_raw.iloc[:,12],A_raw.iloc[:,13]],labels=label)\n",
    "plt.show()"
   ]
  },
  {
   "cell_type": "code",
   "execution_count": 252,
   "metadata": {},
   "outputs": [
    {
     "data": {
      "image/png": "[encoded data removed]",
      "text/plain": [
       "<Figure size 1200x500 with 1 Axes>"
      ]
     },
     "metadata": {},
     "output_type": "display_data"
    }
   ],
   "source": [
    "ax, pig = plt.subplots(figsize=(12,5))\n",
    "label = ['10대','20대','30대','40대','50대','60대이상']\n",
    "plt.title('A 가공후 (연령대)')\n",
    "plt.boxplot([A.iloc[:,8], A.iloc[:,9], A.iloc[:,10],A.iloc[:,11],A.iloc[:,12],A.iloc[:,13]],labels=label)\n",
    "plt.show()"
   ]
  },
  {
   "cell_type": "code",
   "execution_count": 253,
   "metadata": {},
   "outputs": [
    {
     "data": {
      "image/png": "[encoded data removed]",
      "text/plain": [
       "<Figure size 1200x500 with 1 Axes>"
      ]
     },
     "metadata": {},
     "output_type": "display_data"
    }
   ],
   "source": [
    "ax, pig = plt.subplots(figsize=(12,5))\n",
    "label = ['10대 남성','20대 남성','30대 남성','40대 남성','50대 남성','60대이상 남성']\n",
    "plt.title('A 가공전 (남성+연령대)')\n",
    "plt.boxplot([A_raw.iloc[:,14], A_raw.iloc[:,15], A_raw.iloc[:,16],A_raw.iloc[:,17],A_raw.iloc[:,18],A_raw.iloc[:,19]],labels=label)\n",
    "plt.show()"
   ]
  },
  {
   "cell_type": "code",
   "execution_count": 254,
   "metadata": {},
   "outputs": [
    {
     "data": {
      "image/png": "[encoded data removed]",
      "text/plain": [
       "<Figure size 1200x500 with 1 Axes>"
      ]
     },
     "metadata": {},
     "output_type": "display_data"
    }
   ],
   "source": [
    "ax, pig = plt.subplots(figsize=(12,5))\n",
    "label = ['10대 남성','20대 남성','30대 남성','40대 남성','50대 남성','60대이상 남성']\n",
    "plt.title('A 가공후 (남성+연령대)')\n",
    "plt.boxplot([A.iloc[:,14], A.iloc[:,15], A.iloc[:,16],A.iloc[:,17],A.iloc[:,18],A.iloc[:,19]],labels=label)\n",
    "plt.show()"
   ]
  },
  {
   "cell_type": "code",
   "execution_count": 255,
   "metadata": {},
   "outputs": [
    {
     "data": {
      "image/png": "[encoded data removed]",
      "text/plain": [
       "<Figure size 1200x500 with 1 Axes>"
      ]
     },
     "metadata": {},
     "output_type": "display_data"
    }
   ],
   "source": [
    "ax, pig = plt.subplots(figsize=(12,5))\n",
    "label = ['10대 여성','20대 여성','30대 여성','40대 여성','50대 여성','60대이상 여성']\n",
    "plt.title('A 가공전 (여성+연령대)')\n",
    "plt.boxplot([A_raw.iloc[:,20], A_raw.iloc[:,21], A_raw.iloc[:,22],A_raw.iloc[:,23],A_raw.iloc[:,24],A_raw.iloc[:,25]],labels=label)\n",
    "plt.show()"
   ]
  },
  {
   "cell_type": "code",
   "execution_count": 256,
   "metadata": {},
   "outputs": [
    {
     "data": {
      "image/png": "[encoded data removed]",
      "text/plain": [
       "<Figure size 1200x500 with 1 Axes>"
      ]
     },
     "metadata": {},
     "output_type": "display_data"
    }
   ],
   "source": [
    "ax, pig = plt.subplots(figsize=(12,5))\n",
    "label = ['10대 여성','20대 여성','30대 여성','40대 여성','50대 여성','60대이상 여성']\n",
    "plt.title('A 가공후 (여성+연령대)')\n",
    "plt.boxplot([A.iloc[:,20], A.iloc[:,21], A.iloc[:,22],A.iloc[:,23],A.iloc[:,24],A.iloc[:,25]],labels=label)\n",
    "plt.show()"
   ]
  },
  {
   "cell_type": "markdown",
   "metadata": {},
   "source": [
    "# D : 발달상권"
   ]
  },
  {
   "cell_type": "code",
   "execution_count": 257,
   "metadata": {},
   "outputs": [
    {
     "name": "stdout",
     "output_type": "stream",
     "text": [
      "총_직장_인구_수 에 이상치 18 개 존재\n",
      "남성_직장_인구_수 에 이상치 18 개 존재\n",
      "여성_직장_인구_수 에 이상치 18 개 존재\n",
      "연령대_10_직장_인구_수 에 이상치 6 개 존재\n",
      "연령대_20_직장_인구_수 에 이상치 15 개 존재\n",
      "연령대_30_직장_인구_수 에 이상치 18 개 존재\n",
      "연령대_40_직장_인구_수 에 이상치 18 개 존재\n",
      "연령대_50_직장_인구_수 에 이상치 21 개 존재\n",
      "연령대_60_이상_직장_인구_수 에 이상치 6 개 존재\n"
     ]
    },
    {
     "data": {
      "text/plain": [
       "[[27363,\n",
       "  61667,\n",
       "  41471,\n",
       "  43324,\n",
       "  48780,\n",
       "  58731,\n",
       "  27363,\n",
       "  61667,\n",
       "  41471,\n",
       "  43324,\n",
       "  48780,\n",
       "  58731,\n",
       "  61667,\n",
       "  41471,\n",
       "  43324,\n",
       "  48780,\n",
       "  58731,\n",
       "  27363],\n",
       " [18865,\n",
       "  40706,\n",
       "  20644,\n",
       "  24141,\n",
       "  26797,\n",
       "  38593,\n",
       "  18865,\n",
       "  40706,\n",
       "  20644,\n",
       "  24141,\n",
       "  26797,\n",
       "  38593,\n",
       "  40706,\n",
       "  20644,\n",
       "  24141,\n",
       "  26797,\n",
       "  38593,\n",
       "  18865],\n",
       " [20961,\n",
       "  20827,\n",
       "  11378,\n",
       "  19183,\n",
       "  21983,\n",
       "  20138,\n",
       "  20961,\n",
       "  20827,\n",
       "  11378,\n",
       "  19183,\n",
       "  21983,\n",
       "  20138,\n",
       "  20961,\n",
       "  20827,\n",
       "  11378,\n",
       "  19183,\n",
       "  21983,\n",
       "  20138],\n",
       " [202, 244, 202, 244, 202, 244],\n",
       " [9756,\n",
       "  8167,\n",
       "  8091,\n",
       "  11358,\n",
       "  10093,\n",
       "  9756,\n",
       "  8167,\n",
       "  8091,\n",
       "  11358,\n",
       "  10093,\n",
       "  9756,\n",
       "  8167,\n",
       "  8091,\n",
       "  11358,\n",
       "  10093],\n",
       " [8234,\n",
       "  22506,\n",
       "  11056,\n",
       "  13641,\n",
       "  13636,\n",
       "  18065,\n",
       "  8234,\n",
       "  22506,\n",
       "  11056,\n",
       "  13641,\n",
       "  13636,\n",
       "  18065,\n",
       "  22506,\n",
       "  11056,\n",
       "  13641,\n",
       "  13636,\n",
       "  18065,\n",
       "  8234],\n",
       " [6678,\n",
       "  18178,\n",
       "  10671,\n",
       "  10294,\n",
       "  11065,\n",
       "  15897,\n",
       "  6678,\n",
       "  18178,\n",
       "  10671,\n",
       "  10294,\n",
       "  11065,\n",
       "  15897,\n",
       "  18178,\n",
       "  10671,\n",
       "  10294,\n",
       "  11065,\n",
       "  15897,\n",
       "  6678],\n",
       " [4352,\n",
       "  8408,\n",
       "  10081,\n",
       "  4061,\n",
       "  6385,\n",
       "  7952,\n",
       "  10840,\n",
       "  4352,\n",
       "  8408,\n",
       "  10081,\n",
       "  4061,\n",
       "  6385,\n",
       "  7952,\n",
       "  10840,\n",
       "  8408,\n",
       "  10081,\n",
       "  4061,\n",
       "  6385,\n",
       "  7952,\n",
       "  10840,\n",
       "  4352],\n",
       " [4669, 4652, 4669, 4652, 4669, 4652]]"
      ]
     },
     "execution_count": 257,
     "metadata": {},
     "output_type": "execute_result"
    }
   ],
   "source": [
    "find_outlier(D)"
   ]
  },
  {
   "cell_type": "code",
   "execution_count": 258,
   "metadata": {},
   "outputs": [],
   "source": [
    "D = remove_outliers(D)"
   ]
  },
  {
   "cell_type": "code",
   "execution_count": 259,
   "metadata": {},
   "outputs": [
    {
     "data": {
      "image/png": "[encoded data removed]",
      "text/plain": [
       "<Figure size 1200x500 with 1 Axes>"
      ]
     },
     "metadata": {},
     "output_type": "display_data"
    }
   ],
   "source": [
    "ax, pig = plt.subplots(figsize=(12,5))\n",
    "label = ['총','남성','여성']\n",
    "plt.title('D 가공전')\n",
    "plt.boxplot([D_raw.iloc[:,5], D_raw.iloc[:,6], D_raw.iloc[:,7]],labels=label)\n",
    "plt.show()"
   ]
  },
  {
   "cell_type": "code",
   "execution_count": 260,
   "metadata": {},
   "outputs": [
    {
     "data": {
      "image/png": "[encoded data removed]",
      "text/plain": [
       "<Figure size 1200x500 with 1 Axes>"
      ]
     },
     "metadata": {},
     "output_type": "display_data"
    }
   ],
   "source": [
    "ax, pig = plt.subplots(figsize=(12,5))\n",
    "label = ['총','남성','여성']\n",
    "plt.title('D 가공후')\n",
    "plt.boxplot([D.iloc[:,5], D.iloc[:,6], D.iloc[:,7]],labels=label)\n",
    "plt.show()"
   ]
  },
  {
   "cell_type": "code",
   "execution_count": 261,
   "metadata": {},
   "outputs": [
    {
     "data": {
      "image/png": "[encoded data removed]",
      "text/plain": [
       "<Figure size 1200x500 with 1 Axes>"
      ]
     },
     "metadata": {},
     "output_type": "display_data"
    }
   ],
   "source": [
    "ax, pig = plt.subplots(figsize=(12,5))\n",
    "label = ['10대','20대','30대','40대','50대','60대이상']\n",
    "plt.title('D 가공전')\n",
    "plt.boxplot([D_raw.iloc[:,8], D_raw.iloc[:,9], D_raw.iloc[:,10],D_raw.iloc[:,11],D_raw.iloc[:,12],D_raw.iloc[:,13]],labels=label)\n",
    "plt.show()"
   ]
  },
  {
   "cell_type": "code",
   "execution_count": 262,
   "metadata": {},
   "outputs": [
    {
     "data": {
      "image/png": "[encoded data removed]",
      "text/plain": [
       "<Figure size 1200x500 with 1 Axes>"
      ]
     },
     "metadata": {},
     "output_type": "display_data"
    }
   ],
   "source": [
    "ax, pig = plt.subplots(figsize=(12,5))\n",
    "label = ['10대','20대','30대','40대','50대','60대이상']\n",
    "plt.title('D 가공후')\n",
    "plt.boxplot([D.iloc[:,8], D.iloc[:,9], D.iloc[:,10],D.iloc[:,11],D.iloc[:,12],D.iloc[:,13]],labels=label)\n",
    "plt.show()"
   ]
  },
  {
   "cell_type": "markdown",
   "metadata": {},
   "source": [
    "# R : 전통시장"
   ]
  },
  {
   "cell_type": "code",
   "execution_count": 263,
   "metadata": {},
   "outputs": [
    {
     "name": "stdout",
     "output_type": "stream",
     "text": [
      "총_직장_인구_수 에 이상치 0 개 존재\n",
      "남성_직장_인구_수 에 이상치 0 개 존재\n",
      "여성_직장_인구_수 에 이상치 0 개 존재\n",
      "연령대_10_직장_인구_수 에 이상치 3 개 존재\n",
      "연령대_20_직장_인구_수 에 이상치 0 개 존재\n",
      "연령대_30_직장_인구_수 에 이상치 0 개 존재\n",
      "연령대_40_직장_인구_수 에 이상치 0 개 존재\n",
      "연령대_50_직장_인구_수 에 이상치 0 개 존재\n",
      "연령대_60_이상_직장_인구_수 에 이상치 0 개 존재\n"
     ]
    },
    {
     "data": {
      "text/plain": [
       "[[], [], [], [2, 2, 2], [], [], [], [], []]"
      ]
     },
     "execution_count": 263,
     "metadata": {},
     "output_type": "execute_result"
    }
   ],
   "source": [
    "find_outlier(R)"
   ]
  },
  {
   "cell_type": "code",
   "execution_count": 264,
   "metadata": {},
   "outputs": [],
   "source": [
    "R = remove_outliers(R)"
   ]
  },
  {
   "cell_type": "code",
   "execution_count": 265,
   "metadata": {},
   "outputs": [
    {
     "data": {
      "image/png": "[encoded data removed]",
      "text/plain": [
       "<Figure size 1200x500 with 1 Axes>"
      ]
     },
     "metadata": {},
     "output_type": "display_data"
    }
   ],
   "source": [
    "ax, pig = plt.subplots(figsize=(12,5))\n",
    "label = ['총','남성','여성']\n",
    "plt.title('R 가공전')\n",
    "plt.boxplot([R_raw.iloc[:,5], R_raw.iloc[:,6], R_raw.iloc[:,7]],labels=label)\n",
    "plt.show()"
   ]
  },
  {
   "cell_type": "code",
   "execution_count": 266,
   "metadata": {},
   "outputs": [
    {
     "data": {
      "image/png": "[encoded data removed]",
      "text/plain": [
       "<Figure size 1200x500 with 1 Axes>"
      ]
     },
     "metadata": {},
     "output_type": "display_data"
    }
   ],
   "source": [
    "ax, pig = plt.subplots(figsize=(12,5))\n",
    "label = ['총','남성','여성']\n",
    "plt.title('R 가공후')\n",
    "plt.boxplot([R.iloc[:,5], R.iloc[:,6], R.iloc[:,7]],labels=label)\n",
    "plt.show()"
   ]
  },
  {
   "cell_type": "code",
   "execution_count": 267,
   "metadata": {},
   "outputs": [
    {
     "data": {
      "image/png": "[encoded data removed]",
      "text/plain": [
       "<Figure size 1200x500 with 1 Axes>"
      ]
     },
     "metadata": {},
     "output_type": "display_data"
    }
   ],
   "source": [
    "ax, pig = plt.subplots(figsize=(12,5))\n",
    "label = ['10대','20대','30대','40대','50대','60대이상']\n",
    "plt.title('R 가공전')\n",
    "plt.boxplot([R_raw.iloc[:,8], R_raw.iloc[:,9], R_raw.iloc[:,10],R_raw.iloc[:,11],R_raw.iloc[:,12],R_raw.iloc[:,13]],labels=label)\n",
    "plt.show()"
   ]
  },
  {
   "cell_type": "code",
   "execution_count": 268,
   "metadata": {},
   "outputs": [
    {
     "data": {
      "image/png": "[encoded data removed]",
      "text/plain": [
       "<Figure size 1200x500 with 1 Axes>"
      ]
     },
     "metadata": {},
     "output_type": "display_data"
    }
   ],
   "source": [
    "ax, pig = plt.subplots(figsize=(12,5))\n",
    "label = ['10대','20대','30대','40대','50대','60대이상']\n",
    "plt.title('R 가공후')\n",
    "plt.boxplot([R.iloc[:,8], R.iloc[:,9], R.iloc[:,10],R.iloc[:,11],R.iloc[:,12],R.iloc[:,13]],labels=label)\n",
    "plt.show()"
   ]
  },
  {
   "cell_type": "markdown",
   "metadata": {},
   "source": [
    "# U : 관광특구"
   ]
  },
  {
   "cell_type": "code",
   "execution_count": 269,
   "metadata": {},
   "outputs": [
    {
     "name": "stdout",
     "output_type": "stream",
     "text": [
      "총_직장_인구_수 에 이상치 0 개 존재\n",
      "남성_직장_인구_수 에 이상치 0 개 존재\n",
      "여성_직장_인구_수 에 이상치 0 개 존재\n",
      "연령대_10_직장_인구_수 에 이상치 0 개 존재\n",
      "연령대_20_직장_인구_수 에 이상치 0 개 존재\n",
      "연령대_30_직장_인구_수 에 이상치 0 개 존재\n",
      "연령대_40_직장_인구_수 에 이상치 0 개 존재\n",
      "연령대_50_직장_인구_수 에 이상치 0 개 존재\n",
      "연령대_60_이상_직장_인구_수 에 이상치 0 개 존재\n"
     ]
    },
    {
     "data": {
      "text/plain": [
       "[[], [], [], [], [], [], [], [], []]"
      ]
     },
     "execution_count": 269,
     "metadata": {},
     "output_type": "execute_result"
    }
   ],
   "source": [
    "find_outlier(U)"
   ]
  },
  {
   "cell_type": "markdown",
   "metadata": {},
   "source": [
    "# 6. 데이터 통합"
   ]
  },
  {
   "cell_type": "code",
   "execution_count": 270,
   "metadata": {},
   "outputs": [
    {
     "data": {
      "text/plain": [
       "array(['A', 'D', 'R', 'U'], dtype=object)"
      ]
     },
     "execution_count": 270,
     "metadata": {},
     "output_type": "execute_result"
    }
   ],
   "source": [
    "직장인구_상권 = pd.concat([A,D,R,U])\n",
    "직장인구_상권['상권_구분_코드'].unique()"
   ]
  },
  {
   "cell_type": "code",
   "execution_count": 271,
   "metadata": {},
   "outputs": [
    {
     "name": "stdout",
     "output_type": "stream",
     "text": [
      "<class 'pandas.core.frame.DataFrame'>\n",
      "Index: 213 entries, 619 to 1666\n",
      "Data columns (total 26 columns):\n",
      " #   Column               Non-Null Count  Dtype \n",
      "---  ------               --------------  ----- \n",
      " 0   기준_년분기_코드            213 non-null    int64 \n",
      " 1   상권_구분_코드             213 non-null    object\n",
      " 2   상권_구분_코드_명           213 non-null    object\n",
      " 3   상권_코드                213 non-null    int64 \n",
      " 4   상권_코드_명              213 non-null    object\n",
      " 5   총_직장_인구_수            213 non-null    int64 \n",
      " 6   남성_직장_인구_수           213 non-null    int64 \n",
      " 7   여성_직장_인구_수           213 non-null    int64 \n",
      " 8   연령대_10_직장_인구_수       213 non-null    int64 \n",
      " 9   연령대_20_직장_인구_수       213 non-null    int64 \n",
      " 10  연령대_30_직장_인구_수       213 non-null    int64 \n",
      " 11  연령대_40_직장_인구_수       213 non-null    int64 \n",
      " 12  연령대_50_직장_인구_수       213 non-null    int64 \n",
      " 13  연령대_60_이상_직장_인구_수    213 non-null    int64 \n",
      " 14  남성연령대_10_직장_인구_수     213 non-null    int64 \n",
      " 15  남성연령대_20_직장_인구_수     213 non-null    int64 \n",
      " 16  남성연령대_30_직장_인구_수     213 non-null    int64 \n",
      " 17  남성연령대_40_직장_인구_수     213 non-null    int64 \n",
      " 18  남성연령대_50_직장_인구_수     213 non-null    int64 \n",
      " 19  남성연령대_60_이상_직장_인구_수  213 non-null    int64 \n",
      " 20  여성연령대_10_직장_인구_수     213 non-null    int64 \n",
      " 21  여성연령대_20_직장_인구_수     213 non-null    int64 \n",
      " 22  여성연령대_30_직장_인구_수     213 non-null    int64 \n",
      " 23  여성연령대_40_직장_인구_수     213 non-null    int64 \n",
      " 24  여성연령대_50_직장_인구_수     213 non-null    int64 \n",
      " 25  여성연령대_60_이상_직장_인구_수  213 non-null    int64 \n",
      "dtypes: int64(23), object(3)\n",
      "memory usage: 44.9+ KB\n"
     ]
    }
   ],
   "source": [
    "직장인구_상권.info()"
   ]
  },
  {
   "cell_type": "code",
   "execution_count": 272,
   "metadata": {},
   "outputs": [],
   "source": [
    "직장인구_상권.to_csv('./직장인구상권_전처리.csv')"
   ]
  },
  {
   "cell_type": "markdown",
   "metadata": {},
   "source": [
    "남성/여성 연령대는 분석이 너무 복잡해지기도 하고 필요하지도 않을것 같아 제외"
   ]
  },
  {
   "cell_type": "code",
   "execution_count": 273,
   "metadata": {},
   "outputs": [
    {
     "data": {
      "text/html": [
       "<div>\n",
       "<style scoped>\n",
       "    .dataframe tbody tr th:only-of-type {\n",
       "        vertical-align: middle;\n",
       "    }\n",
       "\n",
       "    .dataframe tbody tr th {\n",
       "        vertical-align: top;\n",
       "    }\n",
       "\n",
       "    .dataframe thead th {\n",
       "        text-align: right;\n",
       "    }\n",
       "</style>\n",
       "<table border=\"1\" class=\"dataframe\">\n",
       "  <thead>\n",
       "    <tr style=\"text-align: right;\">\n",
       "      <th></th>\n",
       "      <th>기준_년분기_코드</th>\n",
       "      <th>상권_구분_코드</th>\n",
       "      <th>상권_구분_코드_명</th>\n",
       "      <th>상권_코드</th>\n",
       "      <th>상권_코드_명</th>\n",
       "      <th>총_직장_인구_수</th>\n",
       "      <th>남성_직장_인구_수</th>\n",
       "      <th>여성_직장_인구_수</th>\n",
       "      <th>연령대_10_직장_인구_수</th>\n",
       "      <th>연령대_20_직장_인구_수</th>\n",
       "      <th>연령대_30_직장_인구_수</th>\n",
       "      <th>연령대_40_직장_인구_수</th>\n",
       "      <th>연령대_50_직장_인구_수</th>\n",
       "      <th>연령대_60_이상_직장_인구_수</th>\n",
       "    </tr>\n",
       "  </thead>\n",
       "  <tbody>\n",
       "    <tr>\n",
       "      <th>619</th>\n",
       "      <td>20231</td>\n",
       "      <td>A</td>\n",
       "      <td>골목상권</td>\n",
       "      <td>3110974</td>\n",
       "      <td>언주중학교</td>\n",
       "      <td>278</td>\n",
       "      <td>168</td>\n",
       "      <td>110</td>\n",
       "      <td>3</td>\n",
       "      <td>58</td>\n",
       "      <td>66</td>\n",
       "      <td>85</td>\n",
       "      <td>43</td>\n",
       "      <td>23</td>\n",
       "    </tr>\n",
       "    <tr>\n",
       "      <th>630</th>\n",
       "      <td>20231</td>\n",
       "      <td>A</td>\n",
       "      <td>골목상권</td>\n",
       "      <td>3110991</td>\n",
       "      <td>삼성중앙역 5번</td>\n",
       "      <td>1246</td>\n",
       "      <td>794</td>\n",
       "      <td>452</td>\n",
       "      <td>1</td>\n",
       "      <td>111</td>\n",
       "      <td>415</td>\n",
       "      <td>339</td>\n",
       "      <td>275</td>\n",
       "      <td>105</td>\n",
       "    </tr>\n",
       "    <tr>\n",
       "      <th>631</th>\n",
       "      <td>20231</td>\n",
       "      <td>A</td>\n",
       "      <td>골목상권</td>\n",
       "      <td>3111000</td>\n",
       "      <td>대왕초등학교(세곡동사거리서남측)</td>\n",
       "      <td>39</td>\n",
       "      <td>20</td>\n",
       "      <td>19</td>\n",
       "      <td>0</td>\n",
       "      <td>7</td>\n",
       "      <td>10</td>\n",
       "      <td>12</td>\n",
       "      <td>8</td>\n",
       "      <td>2</td>\n",
       "    </tr>\n",
       "    <tr>\n",
       "      <th>632</th>\n",
       "      <td>20231</td>\n",
       "      <td>A</td>\n",
       "      <td>골목상권</td>\n",
       "      <td>3110999</td>\n",
       "      <td>윗방죽마을공원</td>\n",
       "      <td>268</td>\n",
       "      <td>130</td>\n",
       "      <td>138</td>\n",
       "      <td>2</td>\n",
       "      <td>19</td>\n",
       "      <td>43</td>\n",
       "      <td>44</td>\n",
       "      <td>83</td>\n",
       "      <td>77</td>\n",
       "    </tr>\n",
       "    <tr>\n",
       "      <th>634</th>\n",
       "      <td>20231</td>\n",
       "      <td>A</td>\n",
       "      <td>골목상권</td>\n",
       "      <td>3110963</td>\n",
       "      <td>역삼월드메르디앙아파트</td>\n",
       "      <td>779</td>\n",
       "      <td>545</td>\n",
       "      <td>234</td>\n",
       "      <td>1</td>\n",
       "      <td>126</td>\n",
       "      <td>183</td>\n",
       "      <td>226</td>\n",
       "      <td>154</td>\n",
       "      <td>89</td>\n",
       "    </tr>\n",
       "  </tbody>\n",
       "</table>\n",
       "</div>"
      ],
      "text/plain": [
       "     기준_년분기_코드 상권_구분_코드 상권_구분_코드_명    상권_코드            상권_코드_명  총_직장_인구_수  \\\n",
       "619      20231        A       골목상권  3110974              언주중학교        278   \n",
       "630      20231        A       골목상권  3110991           삼성중앙역 5번       1246   \n",
       "631      20231        A       골목상권  3111000  대왕초등학교(세곡동사거리서남측)         39   \n",
       "632      20231        A       골목상권  3110999            윗방죽마을공원        268   \n",
       "634      20231        A       골목상권  3110963        역삼월드메르디앙아파트        779   \n",
       "\n",
       "     남성_직장_인구_수  여성_직장_인구_수  연령대_10_직장_인구_수  연령대_20_직장_인구_수  연령대_30_직장_인구_수  \\\n",
       "619         168         110               3              58              66   \n",
       "630         794         452               1             111             415   \n",
       "631          20          19               0               7              10   \n",
       "632         130         138               2              19              43   \n",
       "634         545         234               1             126             183   \n",
       "\n",
       "     연령대_40_직장_인구_수  연령대_50_직장_인구_수  연령대_60_이상_직장_인구_수  \n",
       "619              85              43                 23  \n",
       "630             339             275                105  \n",
       "631              12               8                  2  \n",
       "632              44              83                 77  \n",
       "634             226             154                 89  "
      ]
     },
     "execution_count": 273,
     "metadata": {},
     "output_type": "execute_result"
    }
   ],
   "source": [
    "직장인구_상권 = 직장인구_상권.iloc[:,:14]\n",
    "직장인구_상권.head()"
   ]
  },
  {
   "cell_type": "markdown",
   "metadata": {},
   "source": [
    "# 7. 전처리 전후의 통계값 비교"
   ]
  },
  {
   "cell_type": "code",
   "execution_count": 274,
   "metadata": {},
   "outputs": [
    {
     "data": {
      "text/html": [
       "<div>\n",
       "<style scoped>\n",
       "    .dataframe tbody tr th:only-of-type {\n",
       "        vertical-align: middle;\n",
       "    }\n",
       "\n",
       "    .dataframe tbody tr th {\n",
       "        vertical-align: top;\n",
       "    }\n",
       "\n",
       "    .dataframe thead th {\n",
       "        text-align: right;\n",
       "    }\n",
       "</style>\n",
       "<table border=\"1\" class=\"dataframe\">\n",
       "  <thead>\n",
       "    <tr style=\"text-align: right;\">\n",
       "      <th></th>\n",
       "      <th>총_직장_인구_수</th>\n",
       "      <th>남성_직장_인구_수</th>\n",
       "      <th>여성_직장_인구_수</th>\n",
       "      <th>연령대_10_직장_인구_수</th>\n",
       "      <th>연령대_20_직장_인구_수</th>\n",
       "      <th>연령대_30_직장_인구_수</th>\n",
       "      <th>연령대_40_직장_인구_수</th>\n",
       "      <th>연령대_50_직장_인구_수</th>\n",
       "      <th>연령대_60_이상_직장_인구_수</th>\n",
       "    </tr>\n",
       "  </thead>\n",
       "  <tbody>\n",
       "    <tr>\n",
       "      <th>count</th>\n",
       "      <td>306.000000</td>\n",
       "      <td>306.000000</td>\n",
       "      <td>306.000000</td>\n",
       "      <td>306.000000</td>\n",
       "      <td>306.000000</td>\n",
       "      <td>306.000000</td>\n",
       "      <td>306.000000</td>\n",
       "      <td>306.000000</td>\n",
       "      <td>306.000000</td>\n",
       "    </tr>\n",
       "    <tr>\n",
       "      <th>mean</th>\n",
       "      <td>6442.294118</td>\n",
       "      <td>3774.970588</td>\n",
       "      <td>2667.323529</td>\n",
       "      <td>23.705882</td>\n",
       "      <td>1330.941176</td>\n",
       "      <td>1967.558824</td>\n",
       "      <td>1568.166667</td>\n",
       "      <td>1025.049020</td>\n",
       "      <td>526.872549</td>\n",
       "    </tr>\n",
       "    <tr>\n",
       "      <th>std</th>\n",
       "      <td>11509.985446</td>\n",
       "      <td>7014.589631</td>\n",
       "      <td>4680.130165</td>\n",
       "      <td>43.125799</td>\n",
       "      <td>2227.044582</td>\n",
       "      <td>3647.837258</td>\n",
       "      <td>3005.356729</td>\n",
       "      <td>1970.617099</td>\n",
       "      <td>908.522768</td>\n",
       "    </tr>\n",
       "    <tr>\n",
       "      <th>min</th>\n",
       "      <td>17.000000</td>\n",
       "      <td>9.000000</td>\n",
       "      <td>6.000000</td>\n",
       "      <td>0.000000</td>\n",
       "      <td>0.000000</td>\n",
       "      <td>3.000000</td>\n",
       "      <td>4.000000</td>\n",
       "      <td>3.000000</td>\n",
       "      <td>0.000000</td>\n",
       "    </tr>\n",
       "    <tr>\n",
       "      <th>25%</th>\n",
       "      <td>331.000000</td>\n",
       "      <td>186.000000</td>\n",
       "      <td>149.000000</td>\n",
       "      <td>0.000000</td>\n",
       "      <td>61.000000</td>\n",
       "      <td>83.000000</td>\n",
       "      <td>82.000000</td>\n",
       "      <td>82.000000</td>\n",
       "      <td>41.000000</td>\n",
       "    </tr>\n",
       "    <tr>\n",
       "      <th>50%</th>\n",
       "      <td>1575.000000</td>\n",
       "      <td>987.500000</td>\n",
       "      <td>598.000000</td>\n",
       "      <td>5.000000</td>\n",
       "      <td>265.500000</td>\n",
       "      <td>432.500000</td>\n",
       "      <td>376.000000</td>\n",
       "      <td>280.000000</td>\n",
       "      <td>156.000000</td>\n",
       "    </tr>\n",
       "    <tr>\n",
       "      <th>75%</th>\n",
       "      <td>8987.000000</td>\n",
       "      <td>4602.000000</td>\n",
       "      <td>3784.000000</td>\n",
       "      <td>26.000000</td>\n",
       "      <td>1869.000000</td>\n",
       "      <td>2485.000000</td>\n",
       "      <td>1911.000000</td>\n",
       "      <td>1172.000000</td>\n",
       "      <td>580.000000</td>\n",
       "    </tr>\n",
       "    <tr>\n",
       "      <th>max</th>\n",
       "      <td>61667.000000</td>\n",
       "      <td>40706.000000</td>\n",
       "      <td>21983.000000</td>\n",
       "      <td>244.000000</td>\n",
       "      <td>11358.000000</td>\n",
       "      <td>22506.000000</td>\n",
       "      <td>18178.000000</td>\n",
       "      <td>10840.000000</td>\n",
       "      <td>4669.000000</td>\n",
       "    </tr>\n",
       "  </tbody>\n",
       "</table>\n",
       "</div>"
      ],
      "text/plain": [
       "          총_직장_인구_수    남성_직장_인구_수    여성_직장_인구_수  연령대_10_직장_인구_수  \\\n",
       "count    306.000000    306.000000    306.000000      306.000000   \n",
       "mean    6442.294118   3774.970588   2667.323529       23.705882   \n",
       "std    11509.985446   7014.589631   4680.130165       43.125799   \n",
       "min       17.000000      9.000000      6.000000        0.000000   \n",
       "25%      331.000000    186.000000    149.000000        0.000000   \n",
       "50%     1575.000000    987.500000    598.000000        5.000000   \n",
       "75%     8987.000000   4602.000000   3784.000000       26.000000   \n",
       "max    61667.000000  40706.000000  21983.000000      244.000000   \n",
       "\n",
       "       연령대_20_직장_인구_수  연령대_30_직장_인구_수  연령대_40_직장_인구_수  연령대_50_직장_인구_수  \\\n",
       "count      306.000000      306.000000      306.000000      306.000000   \n",
       "mean      1330.941176     1967.558824     1568.166667     1025.049020   \n",
       "std       2227.044582     3647.837258     3005.356729     1970.617099   \n",
       "min          0.000000        3.000000        4.000000        3.000000   \n",
       "25%         61.000000       83.000000       82.000000       82.000000   \n",
       "50%        265.500000      432.500000      376.000000      280.000000   \n",
       "75%       1869.000000     2485.000000     1911.000000     1172.000000   \n",
       "max      11358.000000    22506.000000    18178.000000    10840.000000   \n",
       "\n",
       "       연령대_60_이상_직장_인구_수  \n",
       "count         306.000000  \n",
       "mean          526.872549  \n",
       "std           908.522768  \n",
       "min             0.000000  \n",
       "25%            41.000000  \n",
       "50%           156.000000  \n",
       "75%           580.000000  \n",
       "max          4669.000000  "
      ]
     },
     "execution_count": 274,
     "metadata": {},
     "output_type": "execute_result"
    }
   ],
   "source": [
    "직장인구_상권_raw.iloc[:,5:14].describe()"
   ]
  },
  {
   "cell_type": "code",
   "execution_count": 275,
   "metadata": {},
   "outputs": [
    {
     "data": {
      "text/html": [
       "<div>\n",
       "<style scoped>\n",
       "    .dataframe tbody tr th:only-of-type {\n",
       "        vertical-align: middle;\n",
       "    }\n",
       "\n",
       "    .dataframe tbody tr th {\n",
       "        vertical-align: top;\n",
       "    }\n",
       "\n",
       "    .dataframe thead th {\n",
       "        text-align: right;\n",
       "    }\n",
       "</style>\n",
       "<table border=\"1\" class=\"dataframe\">\n",
       "  <thead>\n",
       "    <tr style=\"text-align: right;\">\n",
       "      <th></th>\n",
       "      <th>총_직장_인구_수</th>\n",
       "      <th>남성_직장_인구_수</th>\n",
       "      <th>여성_직장_인구_수</th>\n",
       "      <th>연령대_10_직장_인구_수</th>\n",
       "      <th>연령대_20_직장_인구_수</th>\n",
       "      <th>연령대_30_직장_인구_수</th>\n",
       "      <th>연령대_40_직장_인구_수</th>\n",
       "      <th>연령대_50_직장_인구_수</th>\n",
       "      <th>연령대_60_이상_직장_인구_수</th>\n",
       "    </tr>\n",
       "  </thead>\n",
       "  <tbody>\n",
       "    <tr>\n",
       "      <th>count</th>\n",
       "      <td>213.000000</td>\n",
       "      <td>213.000000</td>\n",
       "      <td>213.000000</td>\n",
       "      <td>213.000000</td>\n",
       "      <td>213.000000</td>\n",
       "      <td>213.000000</td>\n",
       "      <td>213.000000</td>\n",
       "      <td>213.000000</td>\n",
       "      <td>213.000000</td>\n",
       "    </tr>\n",
       "    <tr>\n",
       "      <th>mean</th>\n",
       "      <td>3240.633803</td>\n",
       "      <td>1855.549296</td>\n",
       "      <td>1385.084507</td>\n",
       "      <td>10.478873</td>\n",
       "      <td>733.140845</td>\n",
       "      <td>1046.887324</td>\n",
       "      <td>776.633803</td>\n",
       "      <td>445.394366</td>\n",
       "      <td>228.098592</td>\n",
       "    </tr>\n",
       "    <tr>\n",
       "      <th>std</th>\n",
       "      <td>4433.679541</td>\n",
       "      <td>2536.021301</td>\n",
       "      <td>2000.759715</td>\n",
       "      <td>16.013726</td>\n",
       "      <td>1096.790011</td>\n",
       "      <td>1494.282922</td>\n",
       "      <td>1063.172299</td>\n",
       "      <td>575.130547</td>\n",
       "      <td>297.176103</td>\n",
       "    </tr>\n",
       "    <tr>\n",
       "      <th>min</th>\n",
       "      <td>17.000000</td>\n",
       "      <td>9.000000</td>\n",
       "      <td>6.000000</td>\n",
       "      <td>0.000000</td>\n",
       "      <td>0.000000</td>\n",
       "      <td>3.000000</td>\n",
       "      <td>4.000000</td>\n",
       "      <td>3.000000</td>\n",
       "      <td>0.000000</td>\n",
       "    </tr>\n",
       "    <tr>\n",
       "      <th>25%</th>\n",
       "      <td>267.000000</td>\n",
       "      <td>109.000000</td>\n",
       "      <td>125.000000</td>\n",
       "      <td>0.000000</td>\n",
       "      <td>29.000000</td>\n",
       "      <td>60.000000</td>\n",
       "      <td>59.000000</td>\n",
       "      <td>43.000000</td>\n",
       "      <td>24.000000</td>\n",
       "    </tr>\n",
       "    <tr>\n",
       "      <th>50%</th>\n",
       "      <td>779.000000</td>\n",
       "      <td>516.000000</td>\n",
       "      <td>246.000000</td>\n",
       "      <td>1.000000</td>\n",
       "      <td>116.000000</td>\n",
       "      <td>197.000000</td>\n",
       "      <td>199.000000</td>\n",
       "      <td>140.000000</td>\n",
       "      <td>89.000000</td>\n",
       "    </tr>\n",
       "    <tr>\n",
       "      <th>75%</th>\n",
       "      <td>5716.000000</td>\n",
       "      <td>3394.000000</td>\n",
       "      <td>2586.000000</td>\n",
       "      <td>15.000000</td>\n",
       "      <td>1316.000000</td>\n",
       "      <td>2070.000000</td>\n",
       "      <td>1493.000000</td>\n",
       "      <td>895.000000</td>\n",
       "      <td>298.000000</td>\n",
       "    </tr>\n",
       "    <tr>\n",
       "      <th>max</th>\n",
       "      <td>15904.000000</td>\n",
       "      <td>8904.000000</td>\n",
       "      <td>7000.000000</td>\n",
       "      <td>64.000000</td>\n",
       "      <td>3624.000000</td>\n",
       "      <td>6185.000000</td>\n",
       "      <td>4248.000000</td>\n",
       "      <td>1923.000000</td>\n",
       "      <td>1136.000000</td>\n",
       "    </tr>\n",
       "  </tbody>\n",
       "</table>\n",
       "</div>"
      ],
      "text/plain": [
       "          총_직장_인구_수   남성_직장_인구_수   여성_직장_인구_수  연령대_10_직장_인구_수  연령대_20_직장_인구_수  \\\n",
       "count    213.000000   213.000000   213.000000      213.000000      213.000000   \n",
       "mean    3240.633803  1855.549296  1385.084507       10.478873      733.140845   \n",
       "std     4433.679541  2536.021301  2000.759715       16.013726     1096.790011   \n",
       "min       17.000000     9.000000     6.000000        0.000000        0.000000   \n",
       "25%      267.000000   109.000000   125.000000        0.000000       29.000000   \n",
       "50%      779.000000   516.000000   246.000000        1.000000      116.000000   \n",
       "75%     5716.000000  3394.000000  2586.000000       15.000000     1316.000000   \n",
       "max    15904.000000  8904.000000  7000.000000       64.000000     3624.000000   \n",
       "\n",
       "       연령대_30_직장_인구_수  연령대_40_직장_인구_수  연령대_50_직장_인구_수  연령대_60_이상_직장_인구_수  \n",
       "count      213.000000      213.000000      213.000000         213.000000  \n",
       "mean      1046.887324      776.633803      445.394366         228.098592  \n",
       "std       1494.282922     1063.172299      575.130547         297.176103  \n",
       "min          3.000000        4.000000        3.000000           0.000000  \n",
       "25%         60.000000       59.000000       43.000000          24.000000  \n",
       "50%        197.000000      199.000000      140.000000          89.000000  \n",
       "75%       2070.000000     1493.000000      895.000000         298.000000  \n",
       "max       6185.000000     4248.000000     1923.000000        1136.000000  "
      ]
     },
     "execution_count": 275,
     "metadata": {},
     "output_type": "execute_result"
    }
   ],
   "source": [
    "직장인구_상권.iloc[:,5:14].describe()"
   ]
  },
  {
   "cell_type": "markdown",
   "metadata": {},
   "source": [
    "# 8. 데이터 프레임을 csv 파일로 저장 "
   ]
  },
  {
   "cell_type": "code",
   "execution_count": 276,
   "metadata": {},
   "outputs": [
    {
     "data": {
      "text/html": [
       "<div>\n",
       "<style scoped>\n",
       "    .dataframe tbody tr th:only-of-type {\n",
       "        vertical-align: middle;\n",
       "    }\n",
       "\n",
       "    .dataframe tbody tr th {\n",
       "        vertical-align: top;\n",
       "    }\n",
       "\n",
       "    .dataframe thead th {\n",
       "        text-align: right;\n",
       "    }\n",
       "</style>\n",
       "<table border=\"1\" class=\"dataframe\">\n",
       "  <thead>\n",
       "    <tr style=\"text-align: right;\">\n",
       "      <th></th>\n",
       "      <th>기준_년분기_코드</th>\n",
       "      <th>상권_구분_코드</th>\n",
       "      <th>상권_구분_코드_명</th>\n",
       "      <th>상권_코드</th>\n",
       "      <th>상권_코드_명</th>\n",
       "      <th>총_직장_인구_수</th>\n",
       "      <th>남성_직장_인구_수</th>\n",
       "      <th>여성_직장_인구_수</th>\n",
       "      <th>연령대_10_직장_인구_수</th>\n",
       "      <th>연령대_20_직장_인구_수</th>\n",
       "      <th>연령대_30_직장_인구_수</th>\n",
       "      <th>연령대_40_직장_인구_수</th>\n",
       "      <th>연령대_50_직장_인구_수</th>\n",
       "      <th>연령대_60_이상_직장_인구_수</th>\n",
       "    </tr>\n",
       "  </thead>\n",
       "  <tbody>\n",
       "    <tr>\n",
       "      <th>619</th>\n",
       "      <td>20231</td>\n",
       "      <td>A</td>\n",
       "      <td>골목상권</td>\n",
       "      <td>3110974</td>\n",
       "      <td>언주중학교</td>\n",
       "      <td>278</td>\n",
       "      <td>168</td>\n",
       "      <td>110</td>\n",
       "      <td>3</td>\n",
       "      <td>58</td>\n",
       "      <td>66</td>\n",
       "      <td>85</td>\n",
       "      <td>43</td>\n",
       "      <td>23</td>\n",
       "    </tr>\n",
       "    <tr>\n",
       "      <th>630</th>\n",
       "      <td>20231</td>\n",
       "      <td>A</td>\n",
       "      <td>골목상권</td>\n",
       "      <td>3110991</td>\n",
       "      <td>삼성중앙역 5번</td>\n",
       "      <td>1246</td>\n",
       "      <td>794</td>\n",
       "      <td>452</td>\n",
       "      <td>1</td>\n",
       "      <td>111</td>\n",
       "      <td>415</td>\n",
       "      <td>339</td>\n",
       "      <td>275</td>\n",
       "      <td>105</td>\n",
       "    </tr>\n",
       "    <tr>\n",
       "      <th>631</th>\n",
       "      <td>20231</td>\n",
       "      <td>A</td>\n",
       "      <td>골목상권</td>\n",
       "      <td>3111000</td>\n",
       "      <td>대왕초등학교(세곡동사거리서남측)</td>\n",
       "      <td>39</td>\n",
       "      <td>20</td>\n",
       "      <td>19</td>\n",
       "      <td>0</td>\n",
       "      <td>7</td>\n",
       "      <td>10</td>\n",
       "      <td>12</td>\n",
       "      <td>8</td>\n",
       "      <td>2</td>\n",
       "    </tr>\n",
       "    <tr>\n",
       "      <th>632</th>\n",
       "      <td>20231</td>\n",
       "      <td>A</td>\n",
       "      <td>골목상권</td>\n",
       "      <td>3110999</td>\n",
       "      <td>윗방죽마을공원</td>\n",
       "      <td>268</td>\n",
       "      <td>130</td>\n",
       "      <td>138</td>\n",
       "      <td>2</td>\n",
       "      <td>19</td>\n",
       "      <td>43</td>\n",
       "      <td>44</td>\n",
       "      <td>83</td>\n",
       "      <td>77</td>\n",
       "    </tr>\n",
       "    <tr>\n",
       "      <th>634</th>\n",
       "      <td>20231</td>\n",
       "      <td>A</td>\n",
       "      <td>골목상권</td>\n",
       "      <td>3110963</td>\n",
       "      <td>역삼월드메르디앙아파트</td>\n",
       "      <td>779</td>\n",
       "      <td>545</td>\n",
       "      <td>234</td>\n",
       "      <td>1</td>\n",
       "      <td>126</td>\n",
       "      <td>183</td>\n",
       "      <td>226</td>\n",
       "      <td>154</td>\n",
       "      <td>89</td>\n",
       "    </tr>\n",
       "  </tbody>\n",
       "</table>\n",
       "</div>"
      ],
      "text/plain": [
       "     기준_년분기_코드 상권_구분_코드 상권_구분_코드_명    상권_코드            상권_코드_명  총_직장_인구_수  \\\n",
       "619      20231        A       골목상권  3110974              언주중학교        278   \n",
       "630      20231        A       골목상권  3110991           삼성중앙역 5번       1246   \n",
       "631      20231        A       골목상권  3111000  대왕초등학교(세곡동사거리서남측)         39   \n",
       "632      20231        A       골목상권  3110999            윗방죽마을공원        268   \n",
       "634      20231        A       골목상권  3110963        역삼월드메르디앙아파트        779   \n",
       "\n",
       "     남성_직장_인구_수  여성_직장_인구_수  연령대_10_직장_인구_수  연령대_20_직장_인구_수  연령대_30_직장_인구_수  \\\n",
       "619         168         110               3              58              66   \n",
       "630         794         452               1             111             415   \n",
       "631          20          19               0               7              10   \n",
       "632         130         138               2              19              43   \n",
       "634         545         234               1             126             183   \n",
       "\n",
       "     연령대_40_직장_인구_수  연령대_50_직장_인구_수  연령대_60_이상_직장_인구_수  \n",
       "619              85              43                 23  \n",
       "630             339             275                105  \n",
       "631              12               8                  2  \n",
       "632              44              83                 77  \n",
       "634             226             154                 89  "
      ]
     },
     "execution_count": 276,
     "metadata": {},
     "output_type": "execute_result"
    }
   ],
   "source": [
    "직장인구_상권.head()"
   ]
  },
  {
   "cell_type": "code",
   "execution_count": 277,
   "metadata": {},
   "outputs": [],
   "source": [
    "직장인구_상권.to_csv('./직장인구상권_전처리_전체.csv')"
   ]
  },
  {
   "cell_type": "code",
   "execution_count": 278,
   "metadata": {},
   "outputs": [],
   "source": [
    "직장인구_상권 = 직장인구_상권.loc[ :,['기준_년분기_코드','상권_구분_코드_명','상권_코드','상권_코드_명','총_직장_인구_수','남성_직장_인구_수','여성_직장_인구_수','연령대_10_직장_인구_수','연령대_20_직장_인구_수','연령대_30_직장_인구_수','연령대_40_직장_인구_수','연령대_50_직장_인구_수','연령대_60_이상_직장_인구_수'] ]"
   ]
  },
  {
   "cell_type": "code",
   "execution_count": 279,
   "metadata": {},
   "outputs": [],
   "source": [
    "직장인구_상권.to_csv('./직장인구상권_전처리_요약.csv')"
   ]
  },
  {
   "cell_type": "code",
   "execution_count": null,
   "metadata": {},
   "outputs": [],
   "source": []
  }
 ],
 "metadata": {
  "interpreter": {
   "hash": "40d3a090f54c6569ab1632332b64b2c03c39dcf918b08424e98f38b5ae0af88f"
  },
  "kernelspec": {
   "display_name": "Python 3 (ipykernel)",
   "language": "python",
   "name": "python3"
  },
  "language_info": {
   "codemirror_mode": {
    "name": "ipython",
    "version": 3
   },
   "file_extension": ".py",
   "mimetype": "text/x-python",
   "name": "python",
   "nbconvert_exporter": "python",
   "pygments_lexer": "ipython3",
   "version": "3.11.7"
  }
 },
 "nbformat": 4,
 "nbformat_minor": 4
}
